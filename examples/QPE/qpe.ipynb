{
 "cells": [
  {
   "cell_type": "code",
   "execution_count": 2,
   "id": "a42257b1",
   "metadata": {},
   "outputs": [],
   "source": [
    "import sys\n",
    "import os\n",
    "\n",
    "sys.path.insert(0, os.path.abspath(os.path.join(os.getcwd(), '../..')))"
   ]
  },
  {
   "cell_type": "markdown",
   "id": "405f6563",
   "metadata": {},
   "source": [
    "## Quantum Phase Estimation (QPE)\n",
    "#### In this tutorial, we will demonstrate the capabilities of qBraid Algorithms Quantum Phase Estimation Module\n",
    "Begin by importing the module from qBraid Algorithms library"
   ]
  },
  {
   "cell_type": "code",
   "execution_count": 1,
   "id": "0a281dc2",
   "metadata": {},
   "outputs": [
    {
     "name": "stderr",
     "output_type": "stream",
     "text": [
      "/Users/lukeandreesen/pyqasm/src/pyqasm/__init__.py:60: UserWarning: Importing 'pyqasm' outside a proper installation.\n",
      "  warnings.warn(\"Importing 'pyqasm' outside a proper installation.\", UserWarning)\n"
     ]
    }
   ],
   "source": [
    "import pyqasm\n",
    "from qbraid_algorithms import qpe"
   ]
  },
  {
   "cell_type": "markdown",
   "id": "727d132b",
   "metadata": {},
   "source": [
    "To load a full QPE algorithm circuit as a PyQASM module, simply pass a path to the unitary U to the `load_program()` method."
   ]
  },
  {
   "cell_type": "code",
   "execution_count": 4,
   "id": "82d18afa",
   "metadata": {},
   "outputs": [],
   "source": [
    "module = qpe.load_program(\"QPE/unitary.qasm\")"
   ]
  },
  {
   "cell_type": "markdown",
   "id": "57bc257e",
   "metadata": {},
   "source": [
    "We can perform all standard [PyQASM](https://docs.qbraid.com/pyqasm/user-guide/overview) operations on the module, such as unrolling."
   ]
  },
  {
   "cell_type": "code",
   "execution_count": 7,
   "id": "c294fd7f",
   "metadata": {},
   "outputs": [],
   "source": [
    "module.unroll()"
   ]
  },
  {
   "cell_type": "markdown",
   "id": "01a23645",
   "metadata": {},
   "source": [
    "Below, we display the unrolled circuits."
   ]
  },
  {
   "cell_type": "code",
   "execution_count": 8,
   "id": "046b193b",
   "metadata": {},
   "outputs": [
    {
     "name": "stdout",
     "output_type": "stream",
     "text": [
      "OPENQASM 3.0;\n",
      "include \"stdgates.inc\";\n",
      "qubit[4] q;\n",
      "qubit[1] psi;\n",
      "bit[4] b;\n",
      "h q[0];\n",
      "h q[1];\n",
      "h q[2];\n",
      "h q[3];\n",
      "s psi[0];\n",
      "h psi[0];\n",
      "t psi[0];\n",
      "cx q[0], psi[0];\n",
      "tdg psi[0];\n",
      "h psi[0];\n",
      "sdg psi[0];\n",
      "cx q[0], psi[0];\n",
      "s psi[0];\n",
      "h psi[0];\n",
      "t psi[0];\n",
      "cx q[1], psi[0];\n",
      "tdg psi[0];\n",
      "h psi[0];\n",
      "sdg psi[0];\n",
      "cx q[1], psi[0];\n",
      "s psi[0];\n",
      "h psi[0];\n",
      "t psi[0];\n",
      "cx q[1], psi[0];\n",
      "tdg psi[0];\n",
      "h psi[0];\n",
      "sdg psi[0];\n",
      "cx q[1], psi[0];\n",
      "s psi[0];\n",
      "h psi[0];\n",
      "t psi[0];\n",
      "cx q[2], psi[0];\n",
      "tdg psi[0];\n",
      "h psi[0];\n",
      "sdg psi[0];\n",
      "cx q[2], psi[0];\n",
      "s psi[0];\n",
      "h psi[0];\n",
      "t psi[0];\n",
      "cx q[2], psi[0];\n",
      "tdg psi[0];\n",
      "h psi[0];\n",
      "sdg psi[0];\n",
      "cx q[2], psi[0];\n",
      "s psi[0];\n",
      "h psi[0];\n",
      "t psi[0];\n",
      "cx q[2], psi[0];\n",
      "tdg psi[0];\n",
      "h psi[0];\n",
      "sdg psi[0];\n",
      "cx q[2], psi[0];\n",
      "s psi[0];\n",
      "h psi[0];\n",
      "t psi[0];\n",
      "cx q[2], psi[0];\n",
      "tdg psi[0];\n",
      "h psi[0];\n",
      "sdg psi[0];\n",
      "cx q[2], psi[0];\n",
      "s psi[0];\n",
      "h psi[0];\n",
      "t psi[0];\n",
      "cx q[3], psi[0];\n",
      "tdg psi[0];\n",
      "h psi[0];\n",
      "sdg psi[0];\n",
      "cx q[3], psi[0];\n",
      "s psi[0];\n",
      "h psi[0];\n",
      "t psi[0];\n",
      "cx q[3], psi[0];\n",
      "tdg psi[0];\n",
      "h psi[0];\n",
      "sdg psi[0];\n",
      "cx q[3], psi[0];\n",
      "s psi[0];\n",
      "h psi[0];\n",
      "t psi[0];\n",
      "cx q[3], psi[0];\n",
      "tdg psi[0];\n",
      "h psi[0];\n",
      "sdg psi[0];\n",
      "cx q[3], psi[0];\n",
      "s psi[0];\n",
      "h psi[0];\n",
      "t psi[0];\n",
      "cx q[3], psi[0];\n",
      "tdg psi[0];\n",
      "h psi[0];\n",
      "sdg psi[0];\n",
      "cx q[3], psi[0];\n",
      "s psi[0];\n",
      "h psi[0];\n",
      "t psi[0];\n",
      "cx q[3], psi[0];\n",
      "tdg psi[0];\n",
      "h psi[0];\n",
      "sdg psi[0];\n",
      "cx q[3], psi[0];\n",
      "s psi[0];\n",
      "h psi[0];\n",
      "t psi[0];\n",
      "cx q[3], psi[0];\n",
      "tdg psi[0];\n",
      "h psi[0];\n",
      "sdg psi[0];\n",
      "cx q[3], psi[0];\n",
      "s psi[0];\n",
      "h psi[0];\n",
      "t psi[0];\n",
      "cx q[3], psi[0];\n",
      "tdg psi[0];\n",
      "h psi[0];\n",
      "sdg psi[0];\n",
      "cx q[3], psi[0];\n",
      "s psi[0];\n",
      "h psi[0];\n",
      "t psi[0];\n",
      "cx q[3], psi[0];\n",
      "tdg psi[0];\n",
      "h psi[0];\n",
      "sdg psi[0];\n",
      "cx q[3], psi[0];\n",
      "swap q[0], q[3];\n",
      "swap q[1], q[2];\n",
      "h q[3];\n",
      "rz(-0.7853981633974483) q[3];\n",
      "rx(1.5707963267948966) q[3];\n",
      "rz(3.141592653589793) q[3];\n",
      "rx(1.5707963267948966) q[3];\n",
      "rz(3.141592653589793) q[3];\n",
      "cx q[3], q[2];\n",
      "rz(0.7853981633974483) q[2];\n",
      "rx(1.5707963267948966) q[2];\n",
      "rz(3.141592653589793) q[2];\n",
      "rx(1.5707963267948966) q[2];\n",
      "rz(3.141592653589793) q[2];\n",
      "cx q[3], q[2];\n",
      "rz(-0.7853981633974483) q[2];\n",
      "rx(1.5707963267948966) q[2];\n",
      "rz(3.141592653589793) q[2];\n",
      "rx(1.5707963267948966) q[2];\n",
      "rz(3.141592653589793) q[2];\n",
      "h q[2];\n",
      "rz(-0.39269908169872414) q[3];\n",
      "rx(1.5707963267948966) q[3];\n",
      "rz(3.141592653589793) q[3];\n",
      "rx(1.5707963267948966) q[3];\n",
      "rz(3.141592653589793) q[3];\n",
      "cx q[3], q[1];\n",
      "rz(0.39269908169872414) q[1];\n",
      "rx(1.5707963267948966) q[1];\n",
      "rz(3.141592653589793) q[1];\n",
      "rx(1.5707963267948966) q[1];\n",
      "rz(3.141592653589793) q[1];\n",
      "cx q[3], q[1];\n",
      "rz(-0.39269908169872414) q[1];\n",
      "rx(1.5707963267948966) q[1];\n",
      "rz(3.141592653589793) q[1];\n",
      "rx(1.5707963267948966) q[1];\n",
      "rz(3.141592653589793) q[1];\n",
      "rz(-0.7853981633974483) q[2];\n",
      "rx(1.5707963267948966) q[2];\n",
      "rz(3.141592653589793) q[2];\n",
      "rx(1.5707963267948966) q[2];\n",
      "rz(3.141592653589793) q[2];\n",
      "cx q[2], q[1];\n",
      "rz(0.7853981633974483) q[1];\n",
      "rx(1.5707963267948966) q[1];\n",
      "rz(3.141592653589793) q[1];\n",
      "rx(1.5707963267948966) q[1];\n",
      "rz(3.141592653589793) q[1];\n",
      "cx q[2], q[1];\n",
      "rz(-0.7853981633974483) q[1];\n",
      "rx(1.5707963267948966) q[1];\n",
      "rz(3.141592653589793) q[1];\n",
      "rx(1.5707963267948966) q[1];\n",
      "rz(3.141592653589793) q[1];\n",
      "h q[1];\n",
      "rz(-0.19634954084936207) q[3];\n",
      "rx(1.5707963267948966) q[3];\n",
      "rz(3.141592653589793) q[3];\n",
      "rx(1.5707963267948966) q[3];\n",
      "rz(3.141592653589793) q[3];\n",
      "cx q[3], q[0];\n",
      "rz(0.19634954084936207) q[0];\n",
      "rx(1.5707963267948966) q[0];\n",
      "rz(3.141592653589793) q[0];\n",
      "rx(1.5707963267948966) q[0];\n",
      "rz(3.141592653589793) q[0];\n",
      "cx q[3], q[0];\n",
      "rz(-0.19634954084936207) q[0];\n",
      "rx(1.5707963267948966) q[0];\n",
      "rz(3.141592653589793) q[0];\n",
      "rx(1.5707963267948966) q[0];\n",
      "rz(3.141592653589793) q[0];\n",
      "rz(-0.39269908169872414) q[2];\n",
      "rx(1.5707963267948966) q[2];\n",
      "rz(3.141592653589793) q[2];\n",
      "rx(1.5707963267948966) q[2];\n",
      "rz(3.141592653589793) q[2];\n",
      "cx q[2], q[0];\n",
      "rz(0.39269908169872414) q[0];\n",
      "rx(1.5707963267948966) q[0];\n",
      "rz(3.141592653589793) q[0];\n",
      "rx(1.5707963267948966) q[0];\n",
      "rz(3.141592653589793) q[0];\n",
      "cx q[2], q[0];\n",
      "rz(-0.39269908169872414) q[0];\n",
      "rx(1.5707963267948966) q[0];\n",
      "rz(3.141592653589793) q[0];\n",
      "rx(1.5707963267948966) q[0];\n",
      "rz(3.141592653589793) q[0];\n",
      "rz(-0.7853981633974483) q[1];\n",
      "rx(1.5707963267948966) q[1];\n",
      "rz(3.141592653589793) q[1];\n",
      "rx(1.5707963267948966) q[1];\n",
      "rz(3.141592653589793) q[1];\n",
      "cx q[1], q[0];\n",
      "rz(0.7853981633974483) q[0];\n",
      "rx(1.5707963267948966) q[0];\n",
      "rz(3.141592653589793) q[0];\n",
      "rx(1.5707963267948966) q[0];\n",
      "rz(3.141592653589793) q[0];\n",
      "cx q[1], q[0];\n",
      "rz(-0.7853981633974483) q[0];\n",
      "rx(1.5707963267948966) q[0];\n",
      "rz(3.141592653589793) q[0];\n",
      "rx(1.5707963267948966) q[0];\n",
      "rz(3.141592653589793) q[0];\n",
      "h q[0];\n",
      "b[0] = measure q[0];\n",
      "b[1] = measure q[1];\n",
      "b[2] = measure q[2];\n",
      "b[3] = measure q[3];\n",
      "\n"
     ]
    }
   ],
   "source": [
    "module_str = pyqasm.dumps(module)\n",
    "print(module_str)"
   ]
  },
  {
   "cell_type": "markdown",
   "id": "858d7bf8",
   "metadata": {},
   "source": [
    "## Using QPE in your own OpenQASM3 program\n",
    "#### qBraid algorithms makes it easy to incorporate QPE into your own OpenQASM3 circuit.\n",
    "To use the QPE algorithm within your own circuit, simply pass the path to your pre-defined unitary operation to the `generate_subroutine` function. The function will generate a subroutine containing QPE for your unitary within a QASM file located in your current working directory, or any path of your choice."
   ]
  },
  {
   "cell_type": "code",
   "execution_count": 9,
   "id": "1efed244",
   "metadata": {},
   "outputs": [
    {
     "name": "stdout",
     "output_type": "stream",
     "text": [
      "Subroutine 'qpe' has been added to /Users/lukeandreesen/qbraid_algos/examples/qpe.qasm\n"
     ]
    }
   ],
   "source": [
    "qpe.generate_subroutine(\"QPE/unitary.qasm\")"
   ]
  },
  {
   "cell_type": "markdown",
   "id": "8738adb4",
   "metadata": {},
   "source": [
    "To use the subroutine in your own circuit, add `include \"qpe.qasm\";` to your OpenQASM file, and call the `qpe` method by passing an appropriately sized register of qubits, as well as an ancilla qubit."
   ]
  },
  {
   "cell_type": "code",
   "execution_count": 11,
   "id": "72a9dbe9",
   "metadata": {},
   "outputs": [
    {
     "name": "stdout",
     "output_type": "stream",
     "text": [
      "OPENQASM 3.0;\r\n",
      "include \"stdgates.inc\";\r\n",
      "\r\n",
      "\r\n",
      "gate test_gate a {\r\n",
      "  h a;\r\n",
      "  x a;\r\n",
      "}\r\n",
      "\r\n",
      "gate CU a, b {\r\n",
      "  ctrl @ test_gate a, b;\r\n",
      "}\r\n",
      " \r\n",
      "\r\n",
      "def qpe(qubit[4] q, qubit[1] psi) {\r\n",
      "    int n = 4;\r\n",
      "    for int i in [0:n-1] {\r\n",
      "        h q[i];\r\n",
      "    }\r\n",
      "    for int j in [0:n-1] {\r\n",
      "        int[16] k = 1 << j;\r\n",
      "        for int m in [0:k-1] {\r\n",
      "            CU q[j], psi[0];\r\n",
      "        }\r\n",
      "    }\r\n",
      "    // pyqasm does not currently support nested includes, so iqft defined explicitly\r\n",
      "    // IQFT\r\n",
      "    for int[16] i in [0:(n >> 1) - 1] {\r\n",
      "        swap q[i], q[n - i - 1];\r\n",
      "    }\r\n",
      "    for int[16] i in [0:n-1] {\r\n",
      "        int[16] target = n - i - 1;\r\n",
      "        for int[16] j in [0:(n - target - 2)] {\r\n",
      "            int[16] control = n - j - 1;\r\n",
      "            int[16] k = control - target;\r\n",
      "            cp(-2 * pi / (1 << (k + 1))) q[control], q[target];\r\n",
      "        }\r\n",
      "        h q[target];\r\n",
      "    }\r\n",
      "}"
     ]
    }
   ],
   "source": [
    "%cat qpe.qasm"
   ]
  },
  {
   "cell_type": "markdown",
   "id": "7d939af7",
   "metadata": {},
   "source": [
    "## Running Algorithms on qBraid\n",
    "Running algorithms on qBraid is simple. First, import QbraidProvider from qBraid Runtime. Visit [here](https://docs.qbraid.com/sdk/user-guide/providers/native#qbraidprovider) for more information."
   ]
  },
  {
   "cell_type": "code",
   "execution_count": 1,
   "id": "74c3cd37",
   "metadata": {},
   "outputs": [
    {
     "name": "stderr",
     "output_type": "stream",
     "text": [
      "/opt/homebrew/lib/python3.11/site-packages/pennylane/capture/capture_operators.py:33: RuntimeWarning: PennyLane is not yet compatible with JAX versions > 0.4.28. You have version 0.4.30 installed. Please downgrade JAX to <=0.4.28 to avoid runtime errors.\n",
      "  warnings.warn(\n"
     ]
    }
   ],
   "source": [
    "from qbraid.runtime import QbraidProvider"
   ]
  },
  {
   "cell_type": "markdown",
   "id": "14200703",
   "metadata": {},
   "source": [
    "If you have not yet configured QbraidProvider, provide your API key."
   ]
  },
  {
   "cell_type": "code",
   "execution_count": 2,
   "id": "9d35aeaa",
   "metadata": {},
   "outputs": [],
   "source": [
    "# provider = QbraidProvider(api_key='API_KEY')\n",
    "provider = QbraidProvider()"
   ]
  },
  {
   "cell_type": "markdown",
   "id": "011126c3",
   "metadata": {},
   "source": [
    "We'll run our program on qBraid's QIR simulator."
   ]
  },
  {
   "cell_type": "code",
   "execution_count": 3,
   "id": "9023abed",
   "metadata": {},
   "outputs": [],
   "source": [
    "device = provider.get_device('qbraid_qir_simulator')"
   ]
  },
  {
   "cell_type": "markdown",
   "id": "76f7ad3a",
   "metadata": {},
   "source": [
    "To run the job, simply pass a QASM string to the device. If you have a PyQASM module, use `dumps` to generate a QASM string"
   ]
  },
  {
   "cell_type": "code",
   "execution_count": 4,
   "id": "4532cf30",
   "metadata": {},
   "outputs": [
    {
     "ename": "NameError",
     "evalue": "name 'bv' is not defined",
     "output_type": "error",
     "traceback": [
      "\u001b[0;31m---------------------------------------------------------------------------\u001b[0m",
      "\u001b[0;31mNameError\u001b[0m                                 Traceback (most recent call last)",
      "Cell \u001b[0;32mIn[4], line 1\u001b[0m\n\u001b[0;32m----> 1\u001b[0m module \u001b[38;5;241m=\u001b[39m \u001b[43mbv\u001b[49m\u001b[38;5;241m.\u001b[39mload_program(\u001b[38;5;124m'\u001b[39m\u001b[38;5;124m001\u001b[39m\u001b[38;5;124m'\u001b[39m)\n\u001b[1;32m      2\u001b[0m qasm_str \u001b[38;5;241m=\u001b[39m pyqasm\u001b[38;5;241m.\u001b[39mdumps(module)\n",
      "\u001b[0;31mNameError\u001b[0m: name 'bv' is not defined"
     ]
    }
   ],
   "source": [
    "module = qpe.load_program(\"QPE/unitary.qasm\")\n",
    "qasm_str = pyqasm.dumps(module)"
   ]
  },
  {
   "cell_type": "code",
   "execution_count": 5,
   "id": "434bf090",
   "metadata": {},
   "outputs": [
    {
     "ename": "NameError",
     "evalue": "name 'qasm_str' is not defined",
     "output_type": "error",
     "traceback": [
      "\u001b[0;31m---------------------------------------------------------------------------\u001b[0m",
      "\u001b[0;31mNameError\u001b[0m                                 Traceback (most recent call last)",
      "Cell \u001b[0;32mIn[5], line 1\u001b[0m\n\u001b[0;32m----> 1\u001b[0m job \u001b[38;5;241m=\u001b[39m device\u001b[38;5;241m.\u001b[39mrun(\u001b[43mqasm_str\u001b[49m, shots\u001b[38;5;241m=\u001b[39m\u001b[38;5;241m500\u001b[39m)\n",
      "\u001b[0;31mNameError\u001b[0m: name 'qasm_str' is not defined"
     ]
    }
   ],
   "source": [
    "job = device.run(qasm_str, shots=500)"
   ]
  },
  {
   "cell_type": "markdown",
   "id": "713d7e0d",
   "metadata": {},
   "source": [
    "We can now get the counts from the job results."
   ]
  },
  {
   "cell_type": "code",
   "execution_count": 6,
   "id": "4dffb435",
   "metadata": {},
   "outputs": [
    {
     "ename": "NameError",
     "evalue": "name 'job' is not defined",
     "output_type": "error",
     "traceback": [
      "\u001b[0;31m---------------------------------------------------------------------------\u001b[0m",
      "\u001b[0;31mNameError\u001b[0m                                 Traceback (most recent call last)",
      "Cell \u001b[0;32mIn[6], line 1\u001b[0m\n\u001b[0;32m----> 1\u001b[0m results \u001b[38;5;241m=\u001b[39m \u001b[43mjob\u001b[49m\u001b[38;5;241m.\u001b[39mresult()\n\u001b[1;32m      2\u001b[0m counts \u001b[38;5;241m=\u001b[39m result\u001b[38;5;241m.\u001b[39mdata\u001b[38;5;241m.\u001b[39mget_counts()\n\u001b[1;32m      3\u001b[0m \u001b[38;5;28mprint\u001b[39m(counts)\n",
      "\u001b[0;31mNameError\u001b[0m: name 'job' is not defined"
     ]
    }
   ],
   "source": [
    "results = job.result()\n",
    "counts = result.data.get_counts()\n",
    "print(counts)"
   ]
  },
  {
   "cell_type": "markdown",
   "id": "75dfbb27",
   "metadata": {},
   "source": [
    "Finally, we can plot the results using qBraid Visualization."
   ]
  },
  {
   "cell_type": "code",
   "execution_count": 7,
   "id": "6ea15fac",
   "metadata": {},
   "outputs": [
    {
     "ename": "NameError",
     "evalue": "name 'counts' is not defined",
     "output_type": "error",
     "traceback": [
      "\u001b[0;31m---------------------------------------------------------------------------\u001b[0m",
      "\u001b[0;31mNameError\u001b[0m                                 Traceback (most recent call last)",
      "Cell \u001b[0;32mIn[7], line 3\u001b[0m\n\u001b[1;32m      1\u001b[0m \u001b[38;5;28;01mfrom\u001b[39;00m\u001b[38;5;250m \u001b[39m\u001b[38;5;21;01mqbraid\u001b[39;00m\u001b[38;5;21;01m.\u001b[39;00m\u001b[38;5;21;01mvisualization\u001b[39;00m\u001b[38;5;250m \u001b[39m\u001b[38;5;28;01mimport\u001b[39;00m plot_histogram\n\u001b[0;32m----> 3\u001b[0m plot_histogram(\u001b[43mcounts\u001b[49m)\n",
      "\u001b[0;31mNameError\u001b[0m: name 'counts' is not defined"
     ]
    }
   ],
   "source": [
    "from qbraid.visualization import plot_histogram\n",
    "\n",
    "plot_histogram(counts)"
   ]
  },
  {
   "cell_type": "code",
   "execution_count": null,
   "id": "14285905",
   "metadata": {},
   "outputs": [],
   "source": []
  }
 ],
 "metadata": {
  "kernelspec": {
   "display_name": "Python 3 (ipykernel)",
   "language": "python",
   "name": "python3"
  },
  "language_info": {
   "codemirror_mode": {
    "name": "ipython",
    "version": 3
   },
   "file_extension": ".py",
   "mimetype": "text/x-python",
   "name": "python",
   "nbconvert_exporter": "python",
   "pygments_lexer": "ipython3",
   "version": "3.11.11"
  }
 },
 "nbformat": 4,
 "nbformat_minor": 5
}
