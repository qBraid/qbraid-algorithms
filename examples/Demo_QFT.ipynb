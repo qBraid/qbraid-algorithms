{
 "cells": [
  {
   "cell_type": "code",
   "execution_count": 1,
   "id": "8be4ab3e",
   "metadata": {},
   "outputs": [],
   "source": [
    "import sys\n",
    "import os\n",
    "\n",
    "sys.path.insert(0, os.path.abspath(os.path.join(os.getcwd(), '..')))"
   ]
  },
  {
   "cell_type": "code",
   "execution_count": 2,
   "id": "c17d688e",
   "metadata": {},
   "outputs": [],
   "source": [
    "from qbraid_algorithms.QFT_2 import QFT, QFT_Demo\n",
    "import pyqasm"
   ]
  },
  {
   "cell_type": "code",
   "execution_count": null,
   "id": "39ade116",
   "metadata": {},
   "outputs": [
    {
     "name": "stdout",
     "output_type": "stream",
     "text": [
      "OPENQASM 3.0;\n",
      "def qft_module() {\n",
      "    h __qubits__[0];\n",
      "    cphaseshift(pi) __qubits__[1], __qubits__[0];\n",
      "    cphaseshift(pi / 2) __qubits__[2], __qubits__[0];\n",
      "    h __qubits__[1];\n",
      "    cphaseshift(pi) __qubits__[2], __qubits__[1];\n",
      "    h __qubits__[2];\n",
      "    swap __qubits__[0], __qubits__[2];\n",
      "}\n",
      "qubit[3] __qubits__;\n",
      "qft_module();\n"
     ]
    },
    {
     "name": "stderr",
     "output_type": "stream",
     "text": [
      "ERROR:pyqasm: Error at line 3, column 4 in QASM file\n",
      "\n",
      " >>>>>> h __qubits__[0];\n",
      "\n",
      "\n"
     ]
    },
    {
     "ename": "ValidationError",
     "evalue": "Missing qubit register declaration for '__qubits__' in QuantumGate",
     "output_type": "error",
     "traceback": [
      "\u001b[31m---------------------------------------------------------------------------\u001b[39m",
      "\u001b[31mValidationError\u001b[39m                           Traceback (most recent call last)",
      "\u001b[36mCell\u001b[39m\u001b[36m \u001b[39m\u001b[32mIn[3]\u001b[39m\u001b[32m, line 2\u001b[39m\n\u001b[32m      1\u001b[39m \u001b[38;5;28mprint\u001b[39m(QFT_Demo(\u001b[32m3\u001b[39m))\n\u001b[32m----> \u001b[39m\u001b[32m2\u001b[39m \u001b[43mpyqasm\u001b[49m\u001b[43m.\u001b[49m\u001b[43mdraw\u001b[49m\u001b[43m(\u001b[49m\u001b[43mQFT_Demo\u001b[49m\u001b[43m(\u001b[49m\u001b[32;43m3\u001b[39;49m\u001b[43m)\u001b[49m\u001b[43m)\u001b[49m\n",
      "\u001b[36mFile \u001b[39m\u001b[32mc:\\Users\\Masashi Takahashi\\Documents\\Code\\Python_tests\\qbraid-algorithms\\venv\\Lib\\site-packages\\pyqasm\\printer.py:92\u001b[39m, in \u001b[36mdraw\u001b[39m\u001b[34m(program, output, idle_wires, **kwargs)\u001b[39m\n\u001b[32m     89\u001b[39m     program = loads(program)\n\u001b[32m     91\u001b[39m \u001b[38;5;28;01mif\u001b[39;00m output == \u001b[33m\"\u001b[39m\u001b[33mmpl\u001b[39m\u001b[33m\"\u001b[39m:\n\u001b[32m---> \u001b[39m\u001b[32m92\u001b[39m     _ = \u001b[43mmpl_draw\u001b[49m\u001b[43m(\u001b[49m\u001b[43mprogram\u001b[49m\u001b[43m,\u001b[49m\u001b[43m \u001b[49m\u001b[43midle_wires\u001b[49m\u001b[43m=\u001b[49m\u001b[43midle_wires\u001b[49m\u001b[43m,\u001b[49m\u001b[43m \u001b[49m\u001b[43mexternal_draw\u001b[49m\u001b[43m=\u001b[49m\u001b[38;5;28;43;01mFalse\u001b[39;49;00m\u001b[43m,\u001b[49m\u001b[43m \u001b[49m\u001b[43m*\u001b[49m\u001b[43m*\u001b[49m\u001b[43mkwargs\u001b[49m\u001b[43m)\u001b[49m\n\u001b[32m     94\u001b[39m     \u001b[38;5;28;01mimport\u001b[39;00m\u001b[38;5;250m \u001b[39m\u001b[34;01mmatplotlib\u001b[39;00m\u001b[34;01m.\u001b[39;00m\u001b[34;01mpyplot\u001b[39;00m\u001b[38;5;250m \u001b[39m\u001b[38;5;28;01mas\u001b[39;00m\u001b[38;5;250m \u001b[39m\u001b[34;01mplt\u001b[39;00m\n\u001b[32m     96\u001b[39m     \u001b[38;5;28;01mif\u001b[39;00m \u001b[38;5;129;01mnot\u001b[39;00m plt.isinteractive():\n",
      "\u001b[36mFile \u001b[39m\u001b[32mc:\\Users\\Masashi Takahashi\\Documents\\Code\\Python_tests\\qbraid-algorithms\\venv\\Lib\\site-packages\\pyqasm\\printer.py:125\u001b[39m, in \u001b[36mmpl_draw\u001b[39m\u001b[34m(program, idle_wires, filename, external_draw)\u001b[39m\n\u001b[32m    119\u001b[39m \u001b[38;5;28;01mexcept\u001b[39;00m \u001b[38;5;167;01mImportError\u001b[39;00m \u001b[38;5;28;01mas\u001b[39;00m e:\n\u001b[32m    120\u001b[39m     \u001b[38;5;28;01mraise\u001b[39;00m \u001b[38;5;167;01mImportError\u001b[39;00m(\n\u001b[32m    121\u001b[39m         \u001b[33m\"\u001b[39m\u001b[33mmatplotlib needs to be installed prior to running pyqasm.mpl_draw(). \u001b[39m\u001b[33m\"\u001b[39m\n\u001b[32m    122\u001b[39m         \u001b[33m\"\u001b[39m\u001b[33mYou can install matplotlib with:\u001b[39m\u001b[38;5;130;01m\\n\u001b[39;00m\u001b[33m'\u001b[39m\u001b[33mpip install matplotlib\u001b[39m\u001b[33m'\u001b[39m\u001b[33m\"\u001b[39m\n\u001b[32m    123\u001b[39m     ) \u001b[38;5;28;01mfrom\u001b[39;00m\u001b[38;5;250m \u001b[39m\u001b[34;01me\u001b[39;00m\n\u001b[32m--> \u001b[39m\u001b[32m125\u001b[39m \u001b[43mprogram\u001b[49m\u001b[43m.\u001b[49m\u001b[43munroll\u001b[49m\u001b[43m(\u001b[49m\u001b[43m)\u001b[49m\n\u001b[32m    126\u001b[39m program.remove_includes()\n\u001b[32m    128\u001b[39m line_nums, sizes = _compute_line_nums(program)\n",
      "\u001b[36mFile \u001b[39m\u001b[32mc:\\Users\\Masashi Takahashi\\Documents\\Code\\Python_tests\\qbraid-algorithms\\venv\\Lib\\site-packages\\pyqasm\\modules\\base.py:548\u001b[39m, in \u001b[36mQasmModule.unroll\u001b[39m\u001b[34m(self, **kwargs)\u001b[39m\n\u001b[32m    546\u001b[39m \u001b[38;5;28mself\u001b[39m.num_qubits, \u001b[38;5;28mself\u001b[39m.num_clbits = -\u001b[32m1\u001b[39m, -\u001b[32m1\u001b[39m\n\u001b[32m    547\u001b[39m \u001b[38;5;28mself\u001b[39m._unrolled_ast = Program(statements=[], version=\u001b[38;5;28mself\u001b[39m.original_program.version)\n\u001b[32m--> \u001b[39m\u001b[32m548\u001b[39m \u001b[38;5;28;01mraise\u001b[39;00m err\n",
      "\u001b[36mFile \u001b[39m\u001b[32mc:\\Users\\Masashi Takahashi\\Documents\\Code\\Python_tests\\qbraid-algorithms\\venv\\Lib\\site-packages\\pyqasm\\modules\\base.py:543\u001b[39m, in \u001b[36mQasmModule.unroll\u001b[39m\u001b[34m(self, **kwargs)\u001b[39m\n\u001b[32m    541\u001b[39m     \u001b[38;5;28mself\u001b[39m.num_qubits, \u001b[38;5;28mself\u001b[39m.num_clbits = \u001b[32m0\u001b[39m, \u001b[32m0\u001b[39m\n\u001b[32m    542\u001b[39m     visitor = QasmVisitor(module=\u001b[38;5;28mself\u001b[39m, **kwargs)\n\u001b[32m--> \u001b[39m\u001b[32m543\u001b[39m     \u001b[38;5;28;43mself\u001b[39;49m\u001b[43m.\u001b[49m\u001b[43maccept\u001b[49m\u001b[43m(\u001b[49m\u001b[43mvisitor\u001b[49m\u001b[43m)\u001b[49m\n\u001b[32m    544\u001b[39m \u001b[38;5;28;01mexcept\u001b[39;00m (ValidationError, UnrollError) \u001b[38;5;28;01mas\u001b[39;00m err:\n\u001b[32m    545\u001b[39m     \u001b[38;5;66;03m# reset the unrolled ast and qasm\u001b[39;00m\n\u001b[32m    546\u001b[39m     \u001b[38;5;28mself\u001b[39m.num_qubits, \u001b[38;5;28mself\u001b[39m.num_clbits = -\u001b[32m1\u001b[39m, -\u001b[32m1\u001b[39m\n",
      "\u001b[36mFile \u001b[39m\u001b[32mc:\\Users\\Masashi Takahashi\\Documents\\Code\\Python_tests\\qbraid-algorithms\\venv\\Lib\\site-packages\\pyqasm\\modules\\qasm3.py:51\u001b[39m, in \u001b[36mQasm3Module.accept\u001b[39m\u001b[34m(self, visitor)\u001b[39m\n\u001b[32m     45\u001b[39m \u001b[38;5;28;01mdef\u001b[39;00m\u001b[38;5;250m \u001b[39m\u001b[34maccept\u001b[39m(\u001b[38;5;28mself\u001b[39m, visitor):\n\u001b[32m     46\u001b[39m \u001b[38;5;250m    \u001b[39m\u001b[33;03m\"\"\"Accept a visitor for the module\u001b[39;00m\n\u001b[32m     47\u001b[39m \n\u001b[32m     48\u001b[39m \u001b[33;03m    Args:\u001b[39;00m\n\u001b[32m     49\u001b[39m \u001b[33;03m        visitor (QasmVisitor): The visitor to accept\u001b[39;00m\n\u001b[32m     50\u001b[39m \u001b[33;03m    \"\"\"\u001b[39;00m\n\u001b[32m---> \u001b[39m\u001b[32m51\u001b[39m     unrolled_stmt_list = \u001b[43mvisitor\u001b[49m\u001b[43m.\u001b[49m\u001b[43mvisit_basic_block\u001b[49m\u001b[43m(\u001b[49m\u001b[38;5;28;43mself\u001b[39;49m\u001b[43m.\u001b[49m\u001b[43m_statements\u001b[49m\u001b[43m)\u001b[49m\n\u001b[32m     52\u001b[39m     final_stmt_list = visitor.finalize(unrolled_stmt_list)\n\u001b[32m     54\u001b[39m     \u001b[38;5;28mself\u001b[39m._unrolled_ast.statements = final_stmt_list\n",
      "\u001b[36mFile \u001b[39m\u001b[32mc:\\Users\\Masashi Takahashi\\Documents\\Code\\Python_tests\\qbraid-algorithms\\venv\\Lib\\site-packages\\pyqasm\\visitor.py:2208\u001b[39m, in \u001b[36mQasmVisitor.visit_basic_block\u001b[39m\u001b[34m(self, stmt_list)\u001b[39m\n\u001b[32m   2206\u001b[39m result = []\n\u001b[32m   2207\u001b[39m \u001b[38;5;28;01mfor\u001b[39;00m stmt \u001b[38;5;129;01min\u001b[39;00m stmt_list:\n\u001b[32m-> \u001b[39m\u001b[32m2208\u001b[39m     result.extend(\u001b[38;5;28;43mself\u001b[39;49m\u001b[43m.\u001b[49m\u001b[43mvisit_statement\u001b[49m\u001b[43m(\u001b[49m\u001b[43mstmt\u001b[49m\u001b[43m)\u001b[49m)\n\u001b[32m   2209\u001b[39m \u001b[38;5;28;01mreturn\u001b[39;00m result\n",
      "\u001b[36mFile \u001b[39m\u001b[32mc:\\Users\\Masashi Takahashi\\Documents\\Code\\Python_tests\\qbraid-algorithms\\venv\\Lib\\site-packages\\pyqasm\\visitor.py:2185\u001b[39m, in \u001b[36mQasmVisitor.visit_statement\u001b[39m\u001b[34m(self, statement)\u001b[39m\n\u001b[32m   2182\u001b[39m \u001b[38;5;28;01mif\u001b[39;00m visitor_function:\n\u001b[32m   2183\u001b[39m     \u001b[38;5;28;01mif\u001b[39;00m \u001b[38;5;28misinstance\u001b[39m(statement, qasm3_ast.ExpressionStatement):\n\u001b[32m   2184\u001b[39m         \u001b[38;5;66;03m# these return a tuple of return value and list of statements\u001b[39;00m\n\u001b[32m-> \u001b[39m\u001b[32m2185\u001b[39m         _, ret_stmts = \u001b[43mvisitor_function\u001b[49m\u001b[43m(\u001b[49m\u001b[43mstatement\u001b[49m\u001b[43m)\u001b[49m  \u001b[38;5;66;03m# type: ignore[operator]\u001b[39;00m\n\u001b[32m   2186\u001b[39m         result.extend(ret_stmts)\n\u001b[32m   2187\u001b[39m     \u001b[38;5;28;01melse\u001b[39;00m:\n",
      "\u001b[36mFile \u001b[39m\u001b[32mc:\\Users\\Masashi Takahashi\\Documents\\Code\\Python_tests\\qbraid-algorithms\\venv\\Lib\\site-packages\\pyqasm\\visitor.py:2176\u001b[39m, in \u001b[36mQasmVisitor.visit_statement.<locals>.<lambda>\u001b[39m\u001b[34m(x)\u001b[39m\n\u001b[32m   2157\u001b[39m logger.debug(\u001b[33m\"\u001b[39m\u001b[33mVisiting statement \u001b[39m\u001b[33m'\u001b[39m\u001b[38;5;132;01m%s\u001b[39;00m\u001b[33m'\u001b[39m\u001b[33m\"\u001b[39m, \u001b[38;5;28mstr\u001b[39m(statement))\n\u001b[32m   2158\u001b[39m result = []\n\u001b[32m   2159\u001b[39m visit_map = {\n\u001b[32m   2160\u001b[39m     qasm3_ast.Include: \u001b[38;5;28mself\u001b[39m._visit_include,  \u001b[38;5;66;03m# No operation\u001b[39;00m\n\u001b[32m   2161\u001b[39m     qasm3_ast.QuantumMeasurementStatement: \u001b[38;5;28mself\u001b[39m._visit_measurement,\n\u001b[32m   2162\u001b[39m     qasm3_ast.QuantumReset: \u001b[38;5;28mself\u001b[39m._visit_reset,\n\u001b[32m   2163\u001b[39m     qasm3_ast.QuantumBarrier: \u001b[38;5;28mself\u001b[39m._visit_barrier,\n\u001b[32m   2164\u001b[39m     qasm3_ast.QubitDeclaration: \u001b[38;5;28mself\u001b[39m._visit_quantum_register,\n\u001b[32m   2165\u001b[39m     qasm3_ast.QuantumGateDefinition: \u001b[38;5;28mself\u001b[39m._visit_gate_definition,\n\u001b[32m   2166\u001b[39m     qasm3_ast.QuantumGate: \u001b[38;5;28mself\u001b[39m._visit_generic_gate_operation,\n\u001b[32m   2167\u001b[39m     qasm3_ast.QuantumPhase: \u001b[38;5;28mself\u001b[39m._visit_generic_gate_operation,\n\u001b[32m   2168\u001b[39m     qasm3_ast.ClassicalDeclaration: \u001b[38;5;28mself\u001b[39m._visit_classical_declaration,\n\u001b[32m   2169\u001b[39m     qasm3_ast.ClassicalAssignment: \u001b[38;5;28mself\u001b[39m._visit_classical_assignment,\n\u001b[32m   2170\u001b[39m     qasm3_ast.ConstantDeclaration: \u001b[38;5;28mself\u001b[39m._visit_constant_declaration,\n\u001b[32m   2171\u001b[39m     qasm3_ast.BranchingStatement: \u001b[38;5;28mself\u001b[39m._visit_branching_statement,\n\u001b[32m   2172\u001b[39m     qasm3_ast.ForInLoop: \u001b[38;5;28mself\u001b[39m._visit_forin_loop,\n\u001b[32m   2173\u001b[39m     qasm3_ast.AliasStatement: \u001b[38;5;28mself\u001b[39m._visit_alias_statement,\n\u001b[32m   2174\u001b[39m     qasm3_ast.SwitchStatement: \u001b[38;5;28mself\u001b[39m._visit_switch_statement,\n\u001b[32m   2175\u001b[39m     qasm3_ast.SubroutineDefinition: \u001b[38;5;28mself\u001b[39m._visit_subroutine_definition,\n\u001b[32m-> \u001b[39m\u001b[32m2176\u001b[39m     qasm3_ast.ExpressionStatement: \u001b[38;5;28;01mlambda\u001b[39;00m x: \u001b[38;5;28;43mself\u001b[39;49m\u001b[43m.\u001b[49m\u001b[43m_visit_function_call\u001b[49m\u001b[43m(\u001b[49m\u001b[43mx\u001b[49m\u001b[43m.\u001b[49m\u001b[43mexpression\u001b[49m\u001b[43m)\u001b[49m,\n\u001b[32m   2177\u001b[39m     qasm3_ast.IODeclaration: \u001b[38;5;28;01mlambda\u001b[39;00m x: [],\n\u001b[32m   2178\u001b[39m }\n\u001b[32m   2180\u001b[39m visitor_function = visit_map.get(\u001b[38;5;28mtype\u001b[39m(statement))\n\u001b[32m   2182\u001b[39m \u001b[38;5;28;01mif\u001b[39;00m visitor_function:\n",
      "\u001b[36mFile \u001b[39m\u001b[32mc:\\Users\\Masashi Takahashi\\Documents\\Code\\Python_tests\\qbraid-algorithms\\venv\\Lib\\site-packages\\pyqasm\\visitor.py:1905\u001b[39m, in \u001b[36mQasmVisitor._visit_function_call\u001b[39m\u001b[34m(self, statement)\u001b[39m\n\u001b[32m   1903\u001b[39m         return_statement = copy.deepcopy(function_op)\n\u001b[32m   1904\u001b[39m         \u001b[38;5;28;01mbreak\u001b[39;00m\n\u001b[32m-> \u001b[39m\u001b[32m1905\u001b[39m     result.extend(\u001b[38;5;28;43mself\u001b[39;49m\u001b[43m.\u001b[49m\u001b[43mvisit_statement\u001b[49m\u001b[43m(\u001b[49m\u001b[43mcopy\u001b[49m\u001b[43m.\u001b[49m\u001b[43mdeepcopy\u001b[49m\u001b[43m(\u001b[49m\u001b[43mfunction_op\u001b[49m\u001b[43m)\u001b[49m\u001b[43m)\u001b[49m)\n\u001b[32m   1907\u001b[39m return_value = \u001b[38;5;28;01mNone\u001b[39;00m\n\u001b[32m   1908\u001b[39m \u001b[38;5;28;01mif\u001b[39;00m return_statement:\n",
      "\u001b[36mFile \u001b[39m\u001b[32mc:\\Users\\Masashi Takahashi\\Documents\\Code\\Python_tests\\qbraid-algorithms\\venv\\Lib\\site-packages\\pyqasm\\visitor.py:2188\u001b[39m, in \u001b[36mQasmVisitor.visit_statement\u001b[39m\u001b[34m(self, statement)\u001b[39m\n\u001b[32m   2186\u001b[39m         result.extend(ret_stmts)\n\u001b[32m   2187\u001b[39m     \u001b[38;5;28;01melse\u001b[39;00m:\n\u001b[32m-> \u001b[39m\u001b[32m2188\u001b[39m         result.extend(\u001b[43mvisitor_function\u001b[49m\u001b[43m(\u001b[49m\u001b[43mstatement\u001b[49m\u001b[43m)\u001b[49m)  \u001b[38;5;66;03m# type: ignore[operator]\u001b[39;00m\n\u001b[32m   2189\u001b[39m \u001b[38;5;28;01melse\u001b[39;00m:\n\u001b[32m   2190\u001b[39m     raise_qasm3_error(\n\u001b[32m   2191\u001b[39m         \u001b[33mf\u001b[39m\u001b[33m\"\u001b[39m\u001b[33mUnsupported statement of type \u001b[39m\u001b[38;5;132;01m{\u001b[39;00m\u001b[38;5;28mtype\u001b[39m(statement)\u001b[38;5;132;01m}\u001b[39;00m\u001b[33m\"\u001b[39m,\n\u001b[32m   2192\u001b[39m         error_node=statement,\n\u001b[32m   2193\u001b[39m         span=statement.span,\n\u001b[32m   2194\u001b[39m     )\n",
      "\u001b[36mFile \u001b[39m\u001b[32mc:\\Users\\Masashi Takahashi\\Documents\\Code\\Python_tests\\qbraid-algorithms\\venv\\Lib\\site-packages\\pyqasm\\visitor.py:1115\u001b[39m, in \u001b[36mQasmVisitor._visit_generic_gate_operation\u001b[39m\u001b[34m(self, operation, ctrls)\u001b[39m\n\u001b[32m   1106\u001b[39m \u001b[38;5;66;03m# only needs to be done once for a gate operation\u001b[39;00m\n\u001b[32m   1107\u001b[39m \u001b[38;5;28;01mif\u001b[39;00m (\n\u001b[32m   1108\u001b[39m     \u001b[38;5;28mlen\u001b[39m(operation.qubits) > \u001b[32m0\u001b[39m\n\u001b[32m   1109\u001b[39m     \u001b[38;5;129;01mand\u001b[39;00m \u001b[38;5;129;01mnot\u001b[39;00m \u001b[38;5;28mself\u001b[39m._in_gate_scope()\n\u001b[32m   (...)\u001b[39m\u001b[32m   1112\u001b[39m     \u001b[38;5;66;03m# we are in SOME function scope\u001b[39;00m\n\u001b[32m   1113\u001b[39m     \u001b[38;5;66;03m# transform qubits to use the global qreg identifiers\u001b[39;00m\n\u001b[32m   1114\u001b[39m     operation.qubits = (\n\u001b[32m-> \u001b[39m\u001b[32m1115\u001b[39m         \u001b[43mQasm3Transformer\u001b[49m\u001b[43m.\u001b[49m\u001b[43mtransform_function_qubits\u001b[49m\u001b[43m(\u001b[49m\u001b[43m  \u001b[49m\u001b[38;5;66;43;03m# type: ignore [assignment]\u001b[39;49;00m\n\u001b[32m   1116\u001b[39m \u001b[43m            \u001b[49m\u001b[43moperation\u001b[49m\u001b[43m,\u001b[49m\n\u001b[32m   1117\u001b[39m \u001b[43m            \u001b[49m\u001b[38;5;28;43mself\u001b[39;49m\u001b[43m.\u001b[49m\u001b[43m_function_qreg_size_map\u001b[49m\u001b[43m[\u001b[49m\u001b[43m-\u001b[49m\u001b[32;43m1\u001b[39;49m\u001b[43m]\u001b[49m\u001b[43m,\u001b[49m\n\u001b[32m   1118\u001b[39m \u001b[43m            \u001b[49m\u001b[38;5;28;43mself\u001b[39;49m\u001b[43m.\u001b[49m\u001b[43m_function_qreg_transform_map\u001b[49m\u001b[43m[\u001b[49m\u001b[43m-\u001b[49m\u001b[32;43m1\u001b[39;49m\u001b[43m]\u001b[49m\u001b[43m,\u001b[49m\n\u001b[32m   1119\u001b[39m \u001b[43m        \u001b[49m\u001b[43m)\u001b[49m\n\u001b[32m   1120\u001b[39m     )\n\u001b[32m   1122\u001b[39m operation.qubits = \u001b[38;5;28mself\u001b[39m._get_op_bits(  \u001b[38;5;66;03m# type: ignore\u001b[39;00m\n\u001b[32m   1123\u001b[39m     operation, reg_size_map=\u001b[38;5;28mself\u001b[39m._global_qreg_size_map, qubits=\u001b[38;5;28;01mTrue\u001b[39;00m\n\u001b[32m   1124\u001b[39m )\n\u001b[32m   1126\u001b[39m \u001b[38;5;66;03m# ctrl / pow / inv modifiers commute. so group them.\u001b[39;00m\n",
      "\u001b[36mFile \u001b[39m\u001b[32mc:\\Users\\Masashi Takahashi\\Documents\\Code\\Python_tests\\qbraid-algorithms\\venv\\Lib\\site-packages\\pyqasm\\transformer.py:358\u001b[39m, in \u001b[36mQasm3Transformer.transform_function_qubits\u001b[39m\u001b[34m(cls, q_op, formal_qreg_sizes, qubit_map)\u001b[39m\n\u001b[32m    340\u001b[39m \u001b[38;5;129m@classmethod\u001b[39m\n\u001b[32m    341\u001b[39m \u001b[38;5;28;01mdef\u001b[39;00m\u001b[38;5;250m \u001b[39m\u001b[34mtransform_function_qubits\u001b[39m(\n\u001b[32m    342\u001b[39m     \u001b[38;5;28mcls\u001b[39m,\n\u001b[32m   (...)\u001b[39m\u001b[32m    345\u001b[39m     qubit_map: \u001b[38;5;28mdict\u001b[39m[\u001b[38;5;28mtuple\u001b[39m, \u001b[38;5;28mtuple\u001b[39m],\n\u001b[32m    346\u001b[39m ) -> \u001b[38;5;28mlist\u001b[39m[IndexedIdentifier]:\n\u001b[32m    347\u001b[39m \u001b[38;5;250m    \u001b[39m\u001b[33;03m\"\"\"Transform the qubits of a function call to the actual qubits.\u001b[39;00m\n\u001b[32m    348\u001b[39m \n\u001b[32m    349\u001b[39m \u001b[33;03m    Args:\u001b[39;00m\n\u001b[32m   (...)\u001b[39m\u001b[32m    356\u001b[39m \u001b[33;03m        None\u001b[39;00m\n\u001b[32m    357\u001b[39m \u001b[33;03m    \"\"\"\u001b[39;00m\n\u001b[32m--> \u001b[39m\u001b[32m358\u001b[39m     expanded_op_qubits = \u001b[38;5;28;43mcls\u001b[39;49m\u001b[43m.\u001b[49m\u001b[43mvisitor_obj\u001b[49m\u001b[43m.\u001b[49m\u001b[43m_get_op_bits\u001b[49m\u001b[43m(\u001b[49m\u001b[43mq_op\u001b[49m\u001b[43m,\u001b[49m\u001b[43m \u001b[49m\u001b[43mformal_qreg_sizes\u001b[49m\u001b[43m)\u001b[49m\n\u001b[32m    360\u001b[39m     transformed_qubits = []\n\u001b[32m    361\u001b[39m     \u001b[38;5;28;01mfor\u001b[39;00m qubit \u001b[38;5;129;01min\u001b[39;00m expanded_op_qubits:\n",
      "\u001b[36mFile \u001b[39m\u001b[32mc:\\Users\\Masashi Takahashi\\Documents\\Code\\Python_tests\\qbraid-algorithms\\venv\\Lib\\site-packages\\pyqasm\\visitor.py:415\u001b[39m, in \u001b[36mQasmVisitor._get_op_bits\u001b[39m\u001b[34m(self, operation, reg_size_map, qubits)\u001b[39m\n\u001b[32m    410\u001b[39m     \u001b[38;5;28;01melse\u001b[39;00m:\n\u001b[32m    411\u001b[39m         err_msg = (\n\u001b[32m    412\u001b[39m             \u001b[33mf\u001b[39m\u001b[33m\"\u001b[39m\u001b[33mMissing \u001b[39m\u001b[38;5;132;01m{\u001b[39;00m\u001b[33m'\u001b[39m\u001b[33mqubit\u001b[39m\u001b[33m'\u001b[39m\u001b[38;5;250m \u001b[39m\u001b[38;5;28;01mif\u001b[39;00m\u001b[38;5;250m \u001b[39mqubits\u001b[38;5;250m \u001b[39m\u001b[38;5;28;01melse\u001b[39;00m\u001b[38;5;250m \u001b[39m\u001b[33m'\u001b[39m\u001b[33mclbit\u001b[39m\u001b[33m'\u001b[39m\u001b[38;5;132;01m}\u001b[39;00m\u001b[33m register declaration \u001b[39m\u001b[33m\"\u001b[39m\n\u001b[32m    413\u001b[39m             \u001b[33mf\u001b[39m\u001b[33m\"\u001b[39m\u001b[33mfor \u001b[39m\u001b[33m'\u001b[39m\u001b[38;5;132;01m{\u001b[39;00mreg_name\u001b[38;5;132;01m}\u001b[39;00m\u001b[33m'\u001b[39m\u001b[33m in \u001b[39m\u001b[38;5;132;01m{\u001b[39;00m\u001b[38;5;28mtype\u001b[39m(operation).\u001b[34m__name__\u001b[39m\u001b[38;5;132;01m}\u001b[39;00m\u001b[33m\"\u001b[39m\n\u001b[32m    414\u001b[39m         )\n\u001b[32m--> \u001b[39m\u001b[32m415\u001b[39m         \u001b[43mraise_qasm3_error\u001b[49m\u001b[43m(\u001b[49m\n\u001b[32m    416\u001b[39m \u001b[43m            \u001b[49m\u001b[43merr_msg\u001b[49m\u001b[43m,\u001b[49m\n\u001b[32m    417\u001b[39m \u001b[43m            \u001b[49m\u001b[43merror_node\u001b[49m\u001b[43m=\u001b[49m\u001b[43moperation\u001b[49m\u001b[43m,\u001b[49m\n\u001b[32m    418\u001b[39m \u001b[43m            \u001b[49m\u001b[43mspan\u001b[49m\u001b[43m=\u001b[49m\u001b[43moperation\u001b[49m\u001b[43m.\u001b[49m\u001b[43mspan\u001b[49m\u001b[43m,\u001b[49m\n\u001b[32m    419\u001b[39m \u001b[43m        \u001b[49m\u001b[43m)\u001b[49m\n\u001b[32m    420\u001b[39m \u001b[38;5;28mself\u001b[39m._check_if_name_in_scope(reg_name, operation)\n\u001b[32m    422\u001b[39m \u001b[38;5;28;01mif\u001b[39;00m \u001b[38;5;28misinstance\u001b[39m(bit, qasm3_ast.IndexedIdentifier):\n",
      "\u001b[36mFile \u001b[39m\u001b[32mc:\\Users\\Masashi Takahashi\\Documents\\Code\\Python_tests\\qbraid-algorithms\\venv\\Lib\\site-packages\\pyqasm\\exceptions.py:103\u001b[39m, in \u001b[36mraise_qasm3_error\u001b[39m\u001b[34m(message, err_type, error_node, span, raised_from)\u001b[39m\n\u001b[32m    101\u001b[39m \u001b[38;5;28;01mif\u001b[39;00m raised_from:\n\u001b[32m    102\u001b[39m     \u001b[38;5;28;01mraise\u001b[39;00m err_type(message) \u001b[38;5;28;01mfrom\u001b[39;00m\u001b[38;5;250m \u001b[39m\u001b[34;01mraised_from\u001b[39;00m\n\u001b[32m--> \u001b[39m\u001b[32m103\u001b[39m \u001b[38;5;28;01mraise\u001b[39;00m err_type(message)\n",
      "\u001b[31mValidationError\u001b[39m: Missing qubit register declaration for '__qubits__' in QuantumGate"
     ]
    }
   ],
   "source": [
    "print(QFT_Demo(3))\n",
    "# pyqasm.draw(QFT_Demo(3))"
   ]
  },
  {
   "cell_type": "code",
   "execution_count": null,
   "id": "52512164",
   "metadata": {},
   "outputs": [],
   "source": []
  }
 ],
 "metadata": {
  "kernelspec": {
   "display_name": "venv",
   "language": "python",
   "name": "python3"
  },
  "language_info": {
   "codemirror_mode": {
    "name": "ipython",
    "version": 3
   },
   "file_extension": ".py",
   "mimetype": "text/x-python",
   "name": "python",
   "nbconvert_exporter": "python",
   "pygments_lexer": "ipython3",
   "version": "3.12.8"
  }
 },
 "nbformat": 4,
 "nbformat_minor": 5
}
