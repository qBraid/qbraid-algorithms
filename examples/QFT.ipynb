{
 "cells": [
  {
   "cell_type": "code",
   "execution_count": null,
   "id": "b1fc896c",
   "metadata": {},
   "outputs": [],
   "source": [
    "from qbraid_algorithms.QFT_2 import QFT, QFT_Demo\n",
    "import pyqasm"
   ]
  },
  {
   "cell_type": "code",
   "execution_count": 4,
   "id": "d6f9e4f7",
   "metadata": {},
   "outputs": [
    {
     "ename": "NameError",
     "evalue": "name 'qbraid_algorithms' is not defined",
     "output_type": "error",
     "traceback": [
      "\u001b[31m---------------------------------------------------------------------------\u001b[39m",
      "\u001b[31mNameError\u001b[39m                                 Traceback (most recent call last)",
      "\u001b[36mCell\u001b[39m\u001b[36m \u001b[39m\u001b[32mIn[4]\u001b[39m\u001b[32m, line 1\u001b[39m\n\u001b[32m----> \u001b[39m\u001b[32m1\u001b[39m \u001b[38;5;28mprint\u001b[39m(\u001b[43mqbraid_algorithms\u001b[49m.QFT_2)\n",
      "\u001b[31mNameError\u001b[39m: name 'qbraid_algorithms' is not defined"
     ]
    }
   ],
   "source": [
    "print(qbraid_algorithms.QFT_2)"
   ]
  },
  {
   "cell_type": "code",
   "execution_count": 6,
   "id": "c5427696",
   "metadata": {},
   "outputs": [
    {
     "name": "stdout",
     "output_type": "stream",
     "text": [
      "_version\n",
      "bells_inequality\n"
     ]
    }
   ],
   "source": [
    "import pkgutil\n",
    "import qbraid_algorithms\n",
    "for importer, modname, ispkg in pkgutil.iter_modules(qbraid_algorithms.__path__):\n",
    "    print(modname)"
   ]
  },
  {
   "cell_type": "code",
   "execution_count": null,
   "id": "c17d688e",
   "metadata": {},
   "outputs": [],
   "source": []
  }
 ],
 "metadata": {
  "kernelspec": {
   "display_name": "venv",
   "language": "python",
   "name": "python3"
  },
  "language_info": {
   "codemirror_mode": {
    "name": "ipython",
    "version": 3
   },
   "file_extension": ".py",
   "mimetype": "text/x-python",
   "name": "python",
   "nbconvert_exporter": "python",
   "pygments_lexer": "ipython3",
   "version": "3.12.8"
  }
 },
 "nbformat": 4,
 "nbformat_minor": 5
}
