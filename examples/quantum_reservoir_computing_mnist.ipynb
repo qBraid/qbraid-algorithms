{
 "cells": [
  {
   "cell_type": "code",
   "execution_count": 3,
   "id": "384e875b-f354-47e3-93be-a2833bd5d47d",
   "metadata": {
    "tags": []
   },
   "outputs": [],
   "source": [
    "# import numpy as np\n",
    "import torch\n",
    "\n",
    "# import torch.nn as nn\n",
    "# import torch.optim as optim\n",
    "from torchvision import datasets, transforms\n",
    "\n",
    "from qbraid_algorithms.qrc.encoding import one_hot_encoding\n",
    "from qbraid_algorithms.qrc.pca import pca_reduction\n",
    "\n",
    "# from qbraid_algorithms.qrc.dynamics import DetuningLayer, generate_sites, apply_layer\n",
    "# from qbraid_algorithms.qrc.model import QRCModel"
   ]
  },
  {
   "cell_type": "markdown",
   "id": "92fe1fac",
   "metadata": {},
   "source": [
    "# Quantum Reservoir Computing Demo\n",
    "\n",
    "In this notebook we will show you how to train a model to classify MNIST images using quantum reservoir computing (QRC)."
   ]
  },
  {
   "cell_type": "code",
   "execution_count": 5,
   "id": "98344ae5-5055-45a5-acea-133898451f37",
   "metadata": {
    "tags": []
   },
   "outputs": [],
   "source": [
    "# Load MNIST dataset\n",
    "transform = transforms.Compose([transforms.ToTensor()])\n",
    "train_dataset = datasets.MNIST(\"./data/\", download=True, train=True, transform=transform)\n",
    "test_dataset = datasets.MNIST(\"./data/\", download=True, train=False, transform=transform)\n",
    "\n",
    "# Create data loaders\n",
    "train_loader = torch.utils.data.DataLoader(train_dataset, batch_size=100, shuffle=True)\n",
    "test_loader = torch.utils.data.DataLoader(test_dataset, batch_size=100, shuffle=False)"
   ]
  },
  {
   "cell_type": "markdown",
   "id": "21064646",
   "metadata": {},
   "source": [
    "## PCA Reduction"
   ]
  },
  {
   "cell_type": "code",
   "execution_count": null,
   "id": "b891e72e",
   "metadata": {},
   "outputs": [],
   "source": [
    "# Define constants\n",
    "dim_pca = 10\n",
    "delta_max = 6.0\n",
    "num_examples = 1000\n",
    "num_test_examples = 100"
   ]
  },
  {
   "cell_type": "code",
   "execution_count": null,
   "id": "a23670ab",
   "metadata": {},
   "outputs": [],
   "source": [
    "x_train_pca = pca_reduction(\n",
    "    train_dataset, n_components=10, data_dim=28 * 28, delta_max=delta_max, train=True\n",
    ")\n",
    "x_test_pca = pca_reduction(\n",
    "    train_dataset, n_components=10, data_dim=28 * 28, delta_max=delta_max, train=True\n",
    ")"
   ]
  },
  {
   "cell_type": "code",
   "execution_count": 9,
   "id": "ce2224e6-2296-4ad0-bf79-89c62fe52e8b",
   "metadata": {
    "tags": []
   },
   "outputs": [],
   "source": [
    "y_train = one_hot_encoding(train_dataset.targets.numpy().reshape(-1, 1))\n",
    "y_test = one_hot_encoding(test_dataset.targets.numpy().reshape(-1, 1))"
   ]
  },
  {
   "cell_type": "code",
   "execution_count": 10,
   "id": "f3499830-b177-4cc5-87ac-77d1f47b8381",
   "metadata": {
    "tags": []
   },
   "outputs": [
    {
     "data": {
      "text/plain": [
       "array([[0., 0., 0., ..., 1., 0., 0.],\n",
       "       [0., 1., 0., ..., 0., 0., 0.],\n",
       "       [1., 0., 0., ..., 0., 0., 0.],\n",
       "       ...,\n",
       "       [0., 0., 0., ..., 0., 0., 0.],\n",
       "       [0., 0., 0., ..., 0., 0., 0.],\n",
       "       [0., 0., 0., ..., 0., 0., 0.]])"
      ]
     },
     "execution_count": 10,
     "metadata": {},
     "output_type": "execute_result"
    }
   ],
   "source": [
    "y_test[:, 1:num_examples]"
   ]
  },
  {
   "cell_type": "markdown",
   "id": "bd9942ce",
   "metadata": {},
   "source": [
    "## Simulate Quantum Dynamics"
   ]
  },
  {
   "cell_type": "markdown",
   "id": "1fe1a860",
   "metadata": {},
   "source": []
  }
 ],
 "metadata": {
  "kernelspec": {
   "display_name": "qbraid-algos",
   "language": "python",
   "name": "python3"
  },
  "language_info": {
   "codemirror_mode": {
    "name": "ipython",
    "version": 3
   },
   "file_extension": ".py",
   "mimetype": "text/x-python",
   "name": "python",
   "nbconvert_exporter": "python",
   "pygments_lexer": "ipython3",
   "version": "3.11.9"
  }
 },
 "nbformat": 4,
 "nbformat_minor": 5
}
