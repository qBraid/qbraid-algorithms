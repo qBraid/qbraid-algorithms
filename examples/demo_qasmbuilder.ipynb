{
 "cells": [
  {
   "cell_type": "code",
   "execution_count": 2,
   "id": "70e484ad",
   "metadata": {},
   "outputs": [],
   "source": [
    "import sys\n",
    "import os\n",
    "\n",
    "sys.path.insert(0, os.path.abspath(os.path.join(os.getcwd(), '..')))"
   ]
  },
  {
   "cell_type": "code",
   "execution_count": 3,
   "id": "f118cb1e",
   "metadata": {},
   "outputs": [],
   "source": [
    "from qbraid_algorithms.QTran import  *\n",
    "from qbraid_algorithms.qft import  QFTLibrary\n",
    "from qbraid_algorithms.amplitude_amplification import *\n",
    "import pyqasm as pq"
   ]
  },
  {
   "cell_type": "markdown",
   "id": "1e215654",
   "metadata": {},
   "source": [
    "<div class=\"alert alert-block alert-info\">\n",
    "<h1>QasmBuilder Demo</h6>\n",
    "\n",
    "QasmBuilder is a small tool to help build out algorithms within the qbraid algorithms package. <br>\n",
    "It is a macroed string builder at heart which exposes development at all levels of abstraction, <br>\n",
    "and is a QOL feature. Its patterns can be pierced at any point in time and development if the <br>\n",
    "overhead is too much. This comes at minimal cost to system QOL benefits like easy import and <br>\n",
    "ancilla tracking, with the only risk being the lack of guarantee of programmatic correctness of <br>\n",
    "developer added code\n",
    "***\n",
    "This notebook looks to demonstrate the package structure and the design patterns first expected <br>\n",
    "from this package\n",
    "\n",
    "</div>"
   ]
  },
  {
   "cell_type": "markdown",
   "id": "c7846830",
   "metadata": {},
   "source": [
    "\n",
    "<b>QOL items this package provides:</b><br>\n",
    "RESOURCE MANAGEMENT:<br>\n",
    "\n",
    "- Use claim_qubits() and claim_clbits() for dynamic allocation\n",
    "- Track resource usage across library imports\n",
    "- Ensure proper cleanup of scope levels before building\n",
    "\n",
    "ERROR HANDLING:<br>\n",
    "\n",
    "- All builders check for unclosed scopes before generation\n",
    "- Invalid gate references are caught during library operations\n",
    "- Resource conflicts are handled through the allocation system\n"
   ]
  },
  {
   "cell_type": "markdown",
   "id": "e533e561",
   "metadata": {},
   "source": [
    "<div class=\"alert alert-block alert-success\">\n",
    "<b>Here is a short demo of the power of the QasmBuilder library before diving deeper</b> \n",
    "</div>"
   ]
  },
  {
   "cell_type": "code",
   "execution_count": 4,
   "id": "f6c9051c",
   "metadata": {},
   "outputs": [
    {
     "name": "stdout",
     "output_type": "stream",
     "text": [
      "OPENQASM 3;\n",
      "include \"stdgates.inc\";\n",
      "qubit[5] qb;\n",
      "bit[5] cb;\n",
      "h qb[1];\n",
      "/*\n",
      "This is a \n",
      "Multi-line comment\n",
      "*/\n",
      "//Single line comment\n",
      "for int i in [0:4] {\n",
      "\tx qb[i];\n",
      "\t//Inside loop\n",
      "}\n",
      "cb[{1, 2}] = measure qb[{1, 2}];\n",
      "\n"
     ]
    },
    {
     "data": {
      "image/png": "[encoded data removed]",
      "text/plain": [
       "<Figure size 380x660 with 1 Axes>"
      ]
     },
     "metadata": {},
     "output_type": "display_data"
    }
   ],
   "source": [
    "# Create 10-qubit circuit with OpenQASM 3.0\n",
    "alg = QasmBuilder(5, version=\"3\") \n",
    "register = [*range(5)]\n",
    "\n",
    "# Import standard gates library\n",
    "program = alg.import_library(std_gates)\n",
    "\n",
    "# Import QFT library\n",
    "qft = alg.import_library(QFTLibrary)\n",
    "\n",
    "# Apply gates\n",
    "program.h(1)                           # X gate on qubit 1\n",
    "program.comment(\"This is a \\nMulti-line comment\")  # Add documentation\n",
    "program.comment(\"Single line comment\") # More documentation\n",
    "\n",
    "# Loop example\n",
    "program.begin_loop(5)                  # Loop 5 times\n",
    "program.x(\"i\")                     # X gate using loop variable (default i)\n",
    "program.comment(\"Inside loop\")     # Scoped comment\n",
    "program.end_loop()                     # End loop\n",
    "# qft.QFT(register[:5])\n",
    "# Measurement\n",
    "program.measure([1,2], [1,2])              # Measure qubit 1 → classical bit 1\n",
    "\n",
    "prog = alg.build()\n",
    "print(prog)\n",
    "res = pq.loads(prog)\n",
    "pq.draw(res)\n",
    "        "
   ]
  },
  {
   "cell_type": "markdown",
   "id": "d0c3d818",
   "metadata": {},
   "source": [
    "<div class=\"alert alert-block alert-info\">\n",
    "<h1>The QasmBuilder Object</h6>\n",
    "</div>"
   ]
  },
  {
   "cell_type": "markdown",
   "id": "642df612",
   "metadata": {},
   "source": [
    "This library provides a flexible framework for generating OpenQASM code through a hierarchical builder pattern. Built on top of the root FileBuilder class which separates text content from structure/semantics requirements unique to each file type.\n",
    "\n",
    "**Key Features:**\n",
    "- Automatic scope and indentation management\n",
    "- Library import and gate definition tracking  \n",
    "- Multiple output formats (QASM circuits, includes, gate definitions)\n",
    "- Resource allocation for qubits and classical bits\n",
    "- Extensible design for custom quantum libraries\n",
    "\n",
    "**Class Extensions:** GateBuilder, QasmBuilder, IncludeBuilder\n",
    "\n",
    "### Typical Usage Patterns:\n",
    "\n",
    "#### 1. Complete Quantum Circuit\n",
    "```python\n",
    "builder = QasmBuilder(qubits=5, clbits=5)\n",
    "gates = builder.import_library(std_gates)\n",
    "gates.h(0)\n",
    "gates.cx(0, 1)\n",
    "circuit_code = builder.build()\n",
    "```\n",
    "\n",
    "#### 2. Gate Library Development  \n",
    "```python\n",
    "builder = GateBuilder()\n",
    "gates = builder.import_library(std_gates)\n",
    "# Define custom gates...\n",
    "program, imports, definitions = builder.build()\n",
    "```\n",
    "\n",
    "#### 3. Include File Creation\n",
    "```python\n",
    "builder = IncludeBuilder()\n",
    "# Add gate definitions and utilities...\n",
    "include_content = builder.build()\n",
    "with open(\"custom.inc\", 'w') as f:\n",
    "    f.write(include_content)\n",
    "```"
   ]
  },
  {
   "cell_type": "markdown",
   "id": "e582bbb3",
   "metadata": {},
   "source": [
    "<div class=\"alert alert-block alert-info\">\n",
    "<h1>The GateLibrary Object</h6>\n",
    "</div>"
   ]
  },
  {
   "cell_type": "markdown",
   "id": "f0c22fc9",
   "metadata": {},
   "source": [
    "GateLibrary is a base framework for macroing gate, import, and algorithm generation and is                                                 \n",
    "built to inject definitions into whatever FileBuilder class it is connected to.\n",
    "\n",
    "Key (Base) Features:                                             \n",
    "- Gate application with controls and phases                             \n",
    "- Measurements and classical bit operations                             \n",
    "- Control flow (loops, conditionals)                                    \n",
    "- Gate and subroutine definitions                                       \n",
    "- Code generation and scope management \n",
    "\n",
    "Class Extensions:\n",
    "- std_gates\n",
    "\n",
    "\n",
    "### GATELIBRARY OBJECT TYPICAL USAGE PATTERNS:\n",
    "\n",
    "\n",
    "##### standard gate applications:\n",
    "The most common way a gatelibary is used to to directly correlate to applying a gate either from a static call <br>\n",
    "to an import library like std_gates, or to a more dynamic gate generator for more bulky components like QFT to <br>\n",
    "the top of the file where only a few gate types are used (import generator is currently a stub but should allow <br> \n",
    "for the sequestering of these components to import files themselves local to the main algorithm)\n",
    "\n",
    "The following is a demo of one of the more complex dynamic gate calls:"
   ]
  },
  {
   "cell_type": "code",
   "execution_count": 7,
   "id": "bd538440",
   "metadata": {},
   "outputs": [
    {
     "name": "stdout",
     "output_type": "stream",
     "text": [
      "OPENQASM 3.0;\n",
      "include \"stdgates.inc\";\n",
      "qubit[5] qb;\n",
      "bit[5] cb;\n",
      "gate QFT4S aa, ab, ac, ad {\n",
      "  h aa;\n",
      "  cp(pi / 2) aa, ab;\n",
      "  cp(pi / 4) aa, ac;\n",
      "  cp(pi / 8) aa, ad;\n",
      "  h ab;\n",
      "  cp(pi / 2) ab, ac;\n",
      "  cp(pi / 4) ab, ad;\n",
      "  h ac;\n",
      "  cp(pi / 2) ac, ad;\n",
      "  h ad;\n",
      "  swap ad, aa;\n",
      "  swap ac, ab;\n",
      "}\n",
      "QFT4S qb[0], qb[1], qb[2], qb[3];\n",
      "\n"
     ]
    }
   ],
   "source": [
    "alg = QasmBuilder(5,version=\"3\") \n",
    "qft = alg.import_library(QFTLibrary)\n",
    "\n",
    "\n",
    "#call QFT gate\n",
    "qft.QFT([*range(4)])\n",
    "\n",
    "\n",
    "\n",
    "prog = alg.build()\n",
    "res = pq.loads(prog)\n",
    "print(res)"
   ]
  },
  {
   "cell_type": "markdown",
   "id": "e2761514",
   "metadata": {},
   "source": [
    "##### Blind/ Closure applications\n",
    "many algorithms provide advantage through being agnostic to the application of another component such as the <br> \n",
    "inner workings of a Hamiltonian. Thus passing the Hamilitonian (or other compenent) to a generator is a workflow<br>\n",
    "currently near completion. This interface uses the hamiltonian as a gatebuilder object itself, and has some <br>\n",
    "stricter requirements for application, first there are three methods which are needed depending on the <br>\n",
    "generator: apply, unapply (inverse), and controlled (apply/unapply). for the most part, this lets generators <br>\n",
    "agnostically work with the component but sometimes generators absolutely must need a gated version of the  <br>\n",
    "component to work with (this is expected to be fixed in later revisions). Further work is also expected to <br>\n",
    "bring selective annotation to the output generation and have most generators result in gates rather than sub- <br>\n",
    "routines.\n",
    "\n",
    "lastly for these closures, there tends to be some customizability to the level of interface with the generators <br>\n",
    "by default, the generators will blindly call apply to the hamiltonian but arguments passed to the generator which <br>\n",
    "allow for further parameters to be prepended to the Hamil call (ie having phase estimation set an evolution time <br>\n",
    "for the Hamiltonian will have it pass a time t as the first argument in apply). You must setup your closure to  <br>\n",
    "accept these parameters. \n",
    "\n",
    "the following is a demo of a grovers search algorithm with a blind application of an index hamiltonian:"
   ]
  },
  {
   "cell_type": "code",
   "execution_count": 5,
   "id": "547536c8",
   "metadata": {},
   "outputs": [
    {
     "name": "stdout",
     "output_type": "stream",
     "text": [
      "OPENQASM 3;\n",
      "include \"stdgates.inc\";\n",
      "qubit[5] qb;\n",
      "bit[5] cb;\n",
      "def Grover5Z_on_two2(qubit[5] reg) {\n",
      "\th  reg;\n",
      "\tfor int i in [0:1] {\n",
      "\t\t//Za\n",
      "\t\tctrl(3) @ cp reg[0],reg[1],reg[3],reg[4],reg[2];\n",
      "\t\th  reg;\n",
      "\t\t//Z0\n",
      "\t\tx  reg;\n",
      "\t\tctrl(4) @ z  reg[0], reg[1], reg[2], reg[3], reg[0];\n",
      "\t\tx  reg;\n",
      "\t\th  reg;\n",
      "\t}\n",
      "}\n",
      "\n",
      " Grover5Z_on_two2(qb[{0 ,1 ,2 ,3 ,4}]);\n",
      "\n"
     ]
    }
   ],
   "source": [
    "# Create 10-qubit circuit with OpenQASM 3.0\n",
    "alg = QasmBuilder(5, version=\"3\") \n",
    "reg = [*range(5)]\n",
    "\n",
    "# Import standard gates library\n",
    "program = alg.import_library(std_gates)\n",
    "\n",
    "# Import Amplitude amplification library\n",
    "ampl = alg.import_library(AALibrary)\n",
    "\n",
    "class Za(GateLibrary):\n",
    "    name = \"Z_on_two\"\n",
    "    def __init__(self,*args,**kwargs):\n",
    "        super().__init__(*args,**kwargs)\n",
    "        self.name = \"Z_on_two\"\n",
    "        self.call_space = \"{}\"\n",
    "\n",
    "    def apply(self,qubits):\n",
    "        sys = self.builder\n",
    "        std = sys.import_library(std_gates)\n",
    "        ind = dict(zip(range(len(qubits)),qubits))\n",
    "        ind.pop(2)\n",
    "        self.controlled_op(\"cp\",(qubits[2],list(ind.values())),n=len(qubits)-2)\n",
    "\n",
    "ampl.Grover(Za,reg,2)\n",
    "\n",
    "prog = alg.build()\n",
    "print(prog)\n",
    "res = pq.loads(prog)"
   ]
  },
  {
   "cell_type": "markdown",
   "id": "7e078ba2",
   "metadata": {},
   "source": [
    "<div class=\"alert alert-block alert-warning\">\n",
    "<h1>Some Hang Ups</h1>\n",
    "</div>"
   ]
  },
  {
   "cell_type": "markdown",
   "id": "8905d8a2",
   "metadata": {},
   "source": [
    "### Loop Syntax in Quantum Gate Library\n",
    "Loop syntax is quite diverse and thus the macro generator accepts several different parameterizations for generation, along with some extended capture syntax for working with loop variables. The following section explains several different ways a loop can be called.\n",
    "\n",
    "#### 1. Simple Integer Loops\n",
    "The most basic loop form takes a single integer and creates a range from 0 to that number (exclusive).\n",
    "\n",
    "```python\n",
    "gates.begin_loop(5)     # Creates: for int i in [0:5]\n",
    "gates.h(\"i\")            # Apply Hadamard to qubits 0,1,2,3,4\n",
    "gates.end_loop()\n",
    "```\n",
    "\n",
    "#### 2. Range Loops with Start and End\n",
    "Use a tuple `(start, end)` to specify custom ranges.\n",
    "\n",
    "```python\n",
    "gates.begin_loop((2, 7))  # Creates: for int i in [2:7]\n",
    "gates.x(\"i\")              # Apply X to qubits 2,3,4,5,6\n",
    "gates.end_loop()\n",
    "```\n",
    "\n",
    "#### 3. Stepped Loops\n",
    "Use a tuple `(start, step, end)` for custom step sizes and directions.\n",
    "\n",
    "```python\n",
    "gates.begin_loop((0, 2, 8))  # Creates: for int i in [0:8:2]\n",
    "gates.z(\"i\")                 # Apply Z to qubits 0,2,4,6\n",
    "gates.end_loop()\n",
    "```\n",
    "\n",
    "#### 4. Floating-Point Loops\n",
    "For algorithms requiring continuous parameters, use float ranges with `(start, step_value, count)`.\n",
    "\n",
    "```python\n",
    "gates.begin_loop((0.0, 0.5, 4))  # Creates float range with 4 values\n",
    "gates.phase(\"i\", 1)              # Use loop variable as phase parameter\n",
    "gates.end_loop()\n",
    "```\n",
    "\n",
    "#### 5. Custom Type and Domain Loops\n",
    "For maximum flexibility, specify both type and domain explicitly using `(type_string, domain_string)`.\n",
    "\n",
    "```python\n",
    "gates.begin_loop((\"uint\", \"[1:2:8]\"))  # Creates: for uint i in [1:2:8]\n",
    "gates.sx(\"i\")\n",
    "gates.end_loop()\n",
    "```\n",
    "\n",
    "#### 6. Direct OpenQASM Syntax\n",
    "For complete control, pass raw OpenQASM loop syntax as a string.\n",
    "\n",
    "```python\n",
    "gates.begin_loop(\"bit b in {0, 1}\")     # Custom boolean loop\n",
    "gates.x(0)                              # Operations inside loop\n",
    "gates.end_loop()\n",
    "```\n",
    "\n",
    "## Loop Parameter Summary\n",
    "\n",
    "| Pattern | Syntax | Generated OpenQASM | Use Case |\n",
    "|---------|--------|-------------------|----------|\n",
    "| Simple | `begin_loop(5)` | `for int i in [0:5]` | Basic iteration |\n",
    "| Range | `begin_loop((2,7))` | `for int i in [2:7]` | Custom start/end |\n",
    "| Stepped | `begin_loop((0,2,8))` | `for int i in [0:8:2]` | Skip iterations |\n",
    "| Float | `begin_loop((0.0,0.5,4))` | `for float i in {...}` | Continuous params |\n",
    "| Custom | `begin_loop((\"uint\",\"[1:8]\"))` | `for uint i in [1:8]` | Type control |\n",
    "| Direct | `begin_loop(\"custom syntax\")` | `for custom syntax` | Full control |"
   ]
  },
  {
   "cell_type": "markdown",
   "id": "b61c000e",
   "metadata": {},
   "source": []
  }
 ],
 "metadata": {
  "kernelspec": {
   "display_name": "venv",
   "language": "python",
   "name": "python3"
  },
  "language_info": {
   "codemirror_mode": {
    "name": "ipython",
    "version": 3
   },
   "file_extension": ".py",
   "mimetype": "text/x-python",
   "name": "python",
   "nbconvert_exporter": "python",
   "pygments_lexer": "ipython3",
   "version": "3.12.8"
  }
 },
 "nbformat": 4,
 "nbformat_minor": 5
}
