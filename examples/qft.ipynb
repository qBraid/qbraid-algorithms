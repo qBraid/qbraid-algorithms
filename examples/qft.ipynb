{
 "cells": [
  {
   "cell_type": "code",
   "execution_count": 1,
   "id": "23827387",
   "metadata": {},
   "outputs": [],
   "source": [
    "import sys\n",
    "import os\n",
    "\n",
    "sys.path.insert(0, os.path.abspath(os.path.join(os.getcwd(), '..')))"
   ]
  },
  {
   "cell_type": "markdown",
   "id": "338ad3ca",
   "metadata": {},
   "source": [
    "## Quantum Fourier Transform\n",
    "#### In this tutorial, we will demonstrate the capabilities of qBraid Algorithms QFT and Inverse QFT (IQFT) Modules\n",
    "Begin by importing the modules from qBraid Algorithms library"
   ]
  },
  {
   "cell_type": "code",
   "execution_count": 2,
   "id": "ccfc911a",
   "metadata": {},
   "outputs": [
    {
     "name": "stderr",
     "output_type": "stream",
     "text": [
      "/Users/lukeandreesen/pyqasm/src/pyqasm/__init__.py:60: UserWarning: Importing 'pyqasm' outside a proper installation.\n",
      "  warnings.warn(\"Importing 'pyqasm' outside a proper installation.\", UserWarning)\n"
     ]
    }
   ],
   "source": [
    "import pyqasm\n",
    "from qbraid_algorithms import qft\n",
    "from qbraid_algorithms import iqft"
   ]
  },
  {
   "cell_type": "markdown",
   "id": "87d3980f",
   "metadata": {},
   "source": [
    "We can load both QFT and IQFT as PyQASM modules by calling the `load_program` method, passing the number of qubits to apply the operations to."
   ]
  },
  {
   "cell_type": "code",
   "execution_count": 3,
   "id": "ff7dc849",
   "metadata": {},
   "outputs": [],
   "source": [
    "num_qubits = 3\n",
    "qft_module = qft.load_program(num_qubits)\n",
    "iqft_module = iqft.load_program(num_qubits)"
   ]
  },
  {
   "cell_type": "markdown",
   "id": "b68eeb17",
   "metadata": {},
   "source": [
    "We can perform all standard [PyQASM](https://docs.qbraid.com/pyqasm/user-guide/overview) operations on the module, such as unrolling."
   ]
  },
  {
   "cell_type": "code",
   "execution_count": 4,
   "id": "e8c1a74d",
   "metadata": {},
   "outputs": [],
   "source": [
    "qft_module.unroll()\n",
    "iqft_module.unroll()"
   ]
  },
  {
   "cell_type": "code",
   "execution_count": 5,
   "id": "4ff9ef62",
   "metadata": {},
   "outputs": [],
   "source": [
    "qft_str = pyqasm.dumps(qft_module)\n",
    "iqft_str = pyqasm.dumps(iqft_module)"
   ]
  },
  {
   "cell_type": "markdown",
   "id": "d626c8d5",
   "metadata": {},
   "source": [
    "Below, we display a preview of the the unrolled QFT circuit, followed by the IQFT circuit."
   ]
  },
  {
   "cell_type": "code",
   "execution_count": 8,
   "id": "b2795398",
   "metadata": {},
   "outputs": [
    {
     "name": "stdout",
     "output_type": "stream",
     "text": [
      "OPENQASM 3.0;\n",
      "include \"stdgates.inc\";\n",
      "qubit[3] q;\n",
      "bit[3] b;\n",
      "h q[0];\n",
      "rz(0.7853981633974483) q[1];\n",
      "rx(1.5707963267948966) q[1];\n",
      "rz(3.141592653589793) q[1];\n",
      "rx(1.5707963267948966) q[1];\n",
      "rz(3.141592653589793) q[1];\n",
      "...\n",
      "rx(1.5707963267948966) q[1];\n",
      "rz(3.141592653589793) q[1];\n",
      "rx(1.5707963267948966) q[1];\n",
      "rz(3.141592653589793) q[1];\n",
      "h q[2];\n",
      "swap q[0], q[2];\n",
      "b[0] = measure q[0];\n",
      "b[1] = measure q[1];\n",
      "b[2] = measure q[2];\n",
      "\n"
     ]
    }
   ],
   "source": [
    "print(\"\\n\".join(qft_str.split(\"\\n\")[:10]) + \"\\n...\\n\" + \"\\n\".join(qft_str.split(\"\\n\")[-10:]))"
   ]
  },
  {
   "cell_type": "code",
   "execution_count": 9,
   "id": "385c7c14",
   "metadata": {},
   "outputs": [
    {
     "name": "stdout",
     "output_type": "stream",
     "text": [
      "OPENQASM 3.0;\n",
      "include \"stdgates.inc\";\n",
      "qubit[3] q;\n",
      "bit[3] b;\n",
      "swap q[0], q[2];\n",
      "h q[2];\n",
      "rz(-0.7853981633974483) q[2];\n",
      "rx(1.5707963267948966) q[2];\n",
      "rz(3.141592653589793) q[2];\n",
      "rx(1.5707963267948966) q[2];\n",
      "...\n",
      "rz(-0.7853981633974483) q[0];\n",
      "rx(1.5707963267948966) q[0];\n",
      "rz(3.141592653589793) q[0];\n",
      "rx(1.5707963267948966) q[0];\n",
      "rz(3.141592653589793) q[0];\n",
      "h q[0];\n",
      "b[0] = measure q[0];\n",
      "b[1] = measure q[1];\n",
      "b[2] = measure q[2];\n",
      "\n"
     ]
    }
   ],
   "source": [
    "print(\"\\n\".join(iqft_str.split(\"\\n\")[:10]) + \"\\n...\\n\" + \"\\n\".join(iqft_str.split(\"\\n\")[-10:]))"
   ]
  },
  {
   "cell_type": "markdown",
   "id": "35ada7c7",
   "metadata": {},
   "source": [
    "## Using Quantum Fourier Transform in your own OpenQASM3 program\n",
    "#### qBraid algorithms makes it easy to incorporate QFT and IQFT into your own OpenQASM3 circuit.\n",
    "To use a QFT/IQFT in your circuit, first generate the subroutine using the `generate_subroutine` method, which takes the number of qubits to use. The method will create a QASM3 file containing the algorithm as a subroutine within your current working directory."
   ]
  },
  {
   "cell_type": "code",
   "execution_count": 10,
   "id": "3da3ed9d",
   "metadata": {},
   "outputs": [
    {
     "name": "stdout",
     "output_type": "stream",
     "text": [
      "Subroutine 'qft' has been added to /Users/lukeandreesen/qbraid_algos/examples/qft.qasm\n",
      "Subroutine 'iqft' has been added to /Users/lukeandreesen/qbraid_algos/examples/iqft.qasm\n"
     ]
    }
   ],
   "source": [
    "qft.generate_subroutine(3)\n",
    "iqft.generate_subroutine(3)"
   ]
  },
  {
   "cell_type": "markdown",
   "id": "9fb21cfd",
   "metadata": {},
   "source": [
    "To use the QFT subroutine in your own circuit, add `include \"qft.qasm\";` to your OpenQASM file, and call the `qft` method by passing an appropriately sized register of qubits."
   ]
  },
  {
   "cell_type": "code",
   "execution_count": 11,
   "id": "59fb5dec",
   "metadata": {},
   "outputs": [
    {
     "name": "stdout",
     "output_type": "stream",
     "text": [
      "OPENQASM 3.0;\r\n",
      "include \"stdgates.inc\";\r\n",
      "\r\n",
      "\r\n",
      "def qft(qubit[3] q) {\r\n",
      "  int n = 3;\r\n",
      "  for int[16] i in [0:n - 1] {\r\n",
      "    h q[i];\r\n",
      "    for int[16] j in [i + 1:n - 1] {\r\n",
      "      int[16] k = j - i;\r\n",
      "      cp(2 * pi / (1 << (k + 1))) q[j], q[i];\r\n",
      "    }\r\n",
      "  }\r\n",
      "\r\n",
      "  for int[16] i in [0:(n >> 1) - 1] {\r\n",
      "    swap q[i], q[n - i - 1];\r\n",
      "  }\r\n",
      "}"
     ]
    }
   ],
   "source": [
    "%cat qft.qasm"
   ]
  },
  {
   "cell_type": "markdown",
   "id": "ab150803",
   "metadata": {},
   "source": [
    "To use the IQFT subroutine in your own circuit, add `include \"qft.qasm\";` to your OpenQASM file, and call the `qft` method by passing an appropriately sized register of qubits."
   ]
  },
  {
   "cell_type": "code",
   "execution_count": 12,
   "id": "66248d06",
   "metadata": {},
   "outputs": [
    {
     "name": "stdout",
     "output_type": "stream",
     "text": [
      "OPENQASM 3.0;\r\n",
      "include \"stdgates.inc\";\r\n",
      "\r\n",
      "def iqft(qubit[3] q) {\r\n",
      "    int n = 3;\r\n",
      "    for int[16] i in [0:(n >> 1) - 1] {\r\n",
      "        swap q[i], q[n - i - 1];\r\n",
      "    }\r\n",
      "    for int[16] i in [0:n-1] {\r\n",
      "        int[16] target = n - i - 1;\r\n",
      "        for int[16] j in [0:(n - target - 2)] {\r\n",
      "            int[16] control = n - j - 1;\r\n",
      "            int[16] k = control - target;\r\n",
      "            cp(-2 * pi / (1 << (k + 1))) q[control], q[target];\r\n",
      "        }\r\n",
      "        h q[target];\r\n",
      "    }\r\n",
      "}"
     ]
    }
   ],
   "source": [
    "%cat iqft.qasm"
   ]
  },
  {
   "cell_type": "code",
   "execution_count": null,
   "id": "6a558cb8",
   "metadata": {},
   "outputs": [],
   "source": []
  }
 ],
 "metadata": {
  "kernelspec": {
   "display_name": "Python 3 (ipykernel)",
   "language": "python",
   "name": "python3"
  },
  "language_info": {
   "codemirror_mode": {
    "name": "ipython",
    "version": 3
   },
   "file_extension": ".py",
   "mimetype": "text/x-python",
   "name": "python",
   "nbconvert_exporter": "python",
   "pygments_lexer": "ipython3",
   "version": "3.11.11"
  }
 },
 "nbformat": 4,
 "nbformat_minor": 5
}
