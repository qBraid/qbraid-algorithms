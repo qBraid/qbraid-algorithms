{
 "cells": [
  {
   "cell_type": "code",
   "execution_count": 1,
   "id": "405809fb",
   "metadata": {
    "tags": [
     "hide_cell"
    ]
   },
   "outputs": [],
   "source": [
    "import sys\n",
    "import os\n",
    "\n",
    "sys.path.insert(0, os.path.abspath(os.path.join(os.getcwd(), '..')))"
   ]
  },
  {
   "cell_type": "markdown",
   "id": "d3b8876c",
   "metadata": {},
   "source": [
    "## Bernstein Vazirani\n",
    "#### In this tutorial, we will demonstrate the capabilities of qBraid Algorithms Bernstein Vazirani Module\n",
    "Begin by importing the module from qBraid Algorithms library"
   ]
  },
  {
   "cell_type": "code",
   "execution_count": 2,
   "id": "e939fb23",
   "metadata": {},
   "outputs": [],
   "source": [
    "import pyqasm\n",
    "from qbraid_algorithms import bernstein_vazirani as bv"
   ]
  },
  {
   "cell_type": "markdown",
   "id": "3545fac9",
   "metadata": {},
   "source": [
    "To load a full Bernstein Vazirani algorithm circuit as a PyQASM module, simply pass the secret string to be encoded in the oracle to the `load_program()` method."
   ]
  },
  {
   "cell_type": "code",
   "execution_count": 3,
   "id": "97649823",
   "metadata": {},
   "outputs": [],
   "source": [
    "module = bv.load_program('1011')"
   ]
  },
  {
   "cell_type": "markdown",
   "id": "7e2ac473",
   "metadata": {},
   "source": [
    "We can perform all standard [PyQASM](https://docs.qbraid.com/pyqasm/user-guide/overview) operations on the module, such as unrolling."
   ]
  },
  {
   "cell_type": "code",
   "execution_count": 4,
   "id": "0fb825a7",
   "metadata": {},
   "outputs": [
    {
     "name": "stderr",
     "output_type": "stream",
     "text": [
      "ERROR:pyqasm: Error at line 8, column 0 in QASM file\n",
      "\n",
      " >>>>>> bernvaz(q, ancilla)\n",
      "\n"
     ]
    },
    {
     "ename": "ValidationError",
     "evalue": "Undefined subroutine 'bernvaz' was called",
     "output_type": "error",
     "traceback": [
      "\u001b[0;31m---------------------------------------------------------------------------\u001b[0m",
      "\u001b[0;31mValidationError\u001b[0m                           Traceback (most recent call last)",
      "Cell \u001b[0;32mIn[4], line 1\u001b[0m\n\u001b[0;32m----> 1\u001b[0m \u001b[43mmodule\u001b[49m\u001b[38;5;241;43m.\u001b[39;49m\u001b[43munroll\u001b[49m\u001b[43m(\u001b[49m\u001b[43m)\u001b[49m\n",
      "File \u001b[0;32m/opt/homebrew/lib/python3.11/site-packages/pyqasm/modules/base.py:548\u001b[0m, in \u001b[0;36mQasmModule.unroll\u001b[0;34m(self, **kwargs)\u001b[0m\n\u001b[1;32m    546\u001b[0m \u001b[38;5;28mself\u001b[39m\u001b[38;5;241m.\u001b[39mnum_qubits, \u001b[38;5;28mself\u001b[39m\u001b[38;5;241m.\u001b[39mnum_clbits \u001b[38;5;241m=\u001b[39m \u001b[38;5;241m-\u001b[39m\u001b[38;5;241m1\u001b[39m, \u001b[38;5;241m-\u001b[39m\u001b[38;5;241m1\u001b[39m\n\u001b[1;32m    547\u001b[0m \u001b[38;5;28mself\u001b[39m\u001b[38;5;241m.\u001b[39m_unrolled_ast \u001b[38;5;241m=\u001b[39m Program(statements\u001b[38;5;241m=\u001b[39m[], version\u001b[38;5;241m=\u001b[39m\u001b[38;5;28mself\u001b[39m\u001b[38;5;241m.\u001b[39moriginal_program\u001b[38;5;241m.\u001b[39mversion)\n\u001b[0;32m--> 548\u001b[0m \u001b[38;5;28;01mraise\u001b[39;00m err\n",
      "File \u001b[0;32m/opt/homebrew/lib/python3.11/site-packages/pyqasm/modules/base.py:543\u001b[0m, in \u001b[0;36mQasmModule.unroll\u001b[0;34m(self, **kwargs)\u001b[0m\n\u001b[1;32m    541\u001b[0m     \u001b[38;5;28mself\u001b[39m\u001b[38;5;241m.\u001b[39mnum_qubits, \u001b[38;5;28mself\u001b[39m\u001b[38;5;241m.\u001b[39mnum_clbits \u001b[38;5;241m=\u001b[39m \u001b[38;5;241m0\u001b[39m, \u001b[38;5;241m0\u001b[39m\n\u001b[1;32m    542\u001b[0m     visitor \u001b[38;5;241m=\u001b[39m QasmVisitor(module\u001b[38;5;241m=\u001b[39m\u001b[38;5;28mself\u001b[39m, \u001b[38;5;241m*\u001b[39m\u001b[38;5;241m*\u001b[39mkwargs)\n\u001b[0;32m--> 543\u001b[0m     \u001b[38;5;28;43mself\u001b[39;49m\u001b[38;5;241;43m.\u001b[39;49m\u001b[43maccept\u001b[49m\u001b[43m(\u001b[49m\u001b[43mvisitor\u001b[49m\u001b[43m)\u001b[49m\n\u001b[1;32m    544\u001b[0m \u001b[38;5;28;01mexcept\u001b[39;00m (ValidationError, UnrollError) \u001b[38;5;28;01mas\u001b[39;00m err:\n\u001b[1;32m    545\u001b[0m     \u001b[38;5;66;03m# reset the unrolled ast and qasm\u001b[39;00m\n\u001b[1;32m    546\u001b[0m     \u001b[38;5;28mself\u001b[39m\u001b[38;5;241m.\u001b[39mnum_qubits, \u001b[38;5;28mself\u001b[39m\u001b[38;5;241m.\u001b[39mnum_clbits \u001b[38;5;241m=\u001b[39m \u001b[38;5;241m-\u001b[39m\u001b[38;5;241m1\u001b[39m, \u001b[38;5;241m-\u001b[39m\u001b[38;5;241m1\u001b[39m\n",
      "File \u001b[0;32m/opt/homebrew/lib/python3.11/site-packages/pyqasm/modules/qasm3.py:51\u001b[0m, in \u001b[0;36mQasm3Module.accept\u001b[0;34m(self, visitor)\u001b[0m\n\u001b[1;32m     45\u001b[0m \u001b[38;5;28;01mdef\u001b[39;00m \u001b[38;5;21maccept\u001b[39m(\u001b[38;5;28mself\u001b[39m, visitor):\n\u001b[1;32m     46\u001b[0m \u001b[38;5;250m    \u001b[39m\u001b[38;5;124;03m\"\"\"Accept a visitor for the module\u001b[39;00m\n\u001b[1;32m     47\u001b[0m \n\u001b[1;32m     48\u001b[0m \u001b[38;5;124;03m    Args:\u001b[39;00m\n\u001b[1;32m     49\u001b[0m \u001b[38;5;124;03m        visitor (QasmVisitor): The visitor to accept\u001b[39;00m\n\u001b[1;32m     50\u001b[0m \u001b[38;5;124;03m    \"\"\"\u001b[39;00m\n\u001b[0;32m---> 51\u001b[0m     unrolled_stmt_list \u001b[38;5;241m=\u001b[39m \u001b[43mvisitor\u001b[49m\u001b[38;5;241;43m.\u001b[39;49m\u001b[43mvisit_basic_block\u001b[49m\u001b[43m(\u001b[49m\u001b[38;5;28;43mself\u001b[39;49m\u001b[38;5;241;43m.\u001b[39;49m\u001b[43m_statements\u001b[49m\u001b[43m)\u001b[49m\n\u001b[1;32m     52\u001b[0m     final_stmt_list \u001b[38;5;241m=\u001b[39m visitor\u001b[38;5;241m.\u001b[39mfinalize(unrolled_stmt_list)\n\u001b[1;32m     54\u001b[0m     \u001b[38;5;28mself\u001b[39m\u001b[38;5;241m.\u001b[39m_unrolled_ast\u001b[38;5;241m.\u001b[39mstatements \u001b[38;5;241m=\u001b[39m final_stmt_list\n",
      "File \u001b[0;32m/opt/homebrew/lib/python3.11/site-packages/pyqasm/visitor.py:2208\u001b[0m, in \u001b[0;36mQasmVisitor.visit_basic_block\u001b[0;34m(self, stmt_list)\u001b[0m\n\u001b[1;32m   2206\u001b[0m result \u001b[38;5;241m=\u001b[39m []\n\u001b[1;32m   2207\u001b[0m \u001b[38;5;28;01mfor\u001b[39;00m stmt \u001b[38;5;129;01min\u001b[39;00m stmt_list:\n\u001b[0;32m-> 2208\u001b[0m     result\u001b[38;5;241m.\u001b[39mextend(\u001b[38;5;28;43mself\u001b[39;49m\u001b[38;5;241;43m.\u001b[39;49m\u001b[43mvisit_statement\u001b[49m\u001b[43m(\u001b[49m\u001b[43mstmt\u001b[49m\u001b[43m)\u001b[49m)\n\u001b[1;32m   2209\u001b[0m \u001b[38;5;28;01mreturn\u001b[39;00m result\n",
      "File \u001b[0;32m/opt/homebrew/lib/python3.11/site-packages/pyqasm/visitor.py:2185\u001b[0m, in \u001b[0;36mQasmVisitor.visit_statement\u001b[0;34m(self, statement)\u001b[0m\n\u001b[1;32m   2182\u001b[0m \u001b[38;5;28;01mif\u001b[39;00m visitor_function:\n\u001b[1;32m   2183\u001b[0m     \u001b[38;5;28;01mif\u001b[39;00m \u001b[38;5;28misinstance\u001b[39m(statement, qasm3_ast\u001b[38;5;241m.\u001b[39mExpressionStatement):\n\u001b[1;32m   2184\u001b[0m         \u001b[38;5;66;03m# these return a tuple of return value and list of statements\u001b[39;00m\n\u001b[0;32m-> 2185\u001b[0m         _, ret_stmts \u001b[38;5;241m=\u001b[39m \u001b[43mvisitor_function\u001b[49m\u001b[43m(\u001b[49m\u001b[43mstatement\u001b[49m\u001b[43m)\u001b[49m  \u001b[38;5;66;03m# type: ignore[operator]\u001b[39;00m\n\u001b[1;32m   2186\u001b[0m         result\u001b[38;5;241m.\u001b[39mextend(ret_stmts)\n\u001b[1;32m   2187\u001b[0m     \u001b[38;5;28;01melse\u001b[39;00m:\n",
      "File \u001b[0;32m/opt/homebrew/lib/python3.11/site-packages/pyqasm/visitor.py:2176\u001b[0m, in \u001b[0;36mQasmVisitor.visit_statement.<locals>.<lambda>\u001b[0;34m(x)\u001b[0m\n\u001b[1;32m   2157\u001b[0m logger\u001b[38;5;241m.\u001b[39mdebug(\u001b[38;5;124m\"\u001b[39m\u001b[38;5;124mVisiting statement \u001b[39m\u001b[38;5;124m'\u001b[39m\u001b[38;5;132;01m%s\u001b[39;00m\u001b[38;5;124m'\u001b[39m\u001b[38;5;124m\"\u001b[39m, \u001b[38;5;28mstr\u001b[39m(statement))\n\u001b[1;32m   2158\u001b[0m result \u001b[38;5;241m=\u001b[39m []\n\u001b[1;32m   2159\u001b[0m visit_map \u001b[38;5;241m=\u001b[39m {\n\u001b[1;32m   2160\u001b[0m     qasm3_ast\u001b[38;5;241m.\u001b[39mInclude: \u001b[38;5;28mself\u001b[39m\u001b[38;5;241m.\u001b[39m_visit_include,  \u001b[38;5;66;03m# No operation\u001b[39;00m\n\u001b[1;32m   2161\u001b[0m     qasm3_ast\u001b[38;5;241m.\u001b[39mQuantumMeasurementStatement: \u001b[38;5;28mself\u001b[39m\u001b[38;5;241m.\u001b[39m_visit_measurement,\n\u001b[1;32m   2162\u001b[0m     qasm3_ast\u001b[38;5;241m.\u001b[39mQuantumReset: \u001b[38;5;28mself\u001b[39m\u001b[38;5;241m.\u001b[39m_visit_reset,\n\u001b[1;32m   2163\u001b[0m     qasm3_ast\u001b[38;5;241m.\u001b[39mQuantumBarrier: \u001b[38;5;28mself\u001b[39m\u001b[38;5;241m.\u001b[39m_visit_barrier,\n\u001b[1;32m   2164\u001b[0m     qasm3_ast\u001b[38;5;241m.\u001b[39mQubitDeclaration: \u001b[38;5;28mself\u001b[39m\u001b[38;5;241m.\u001b[39m_visit_quantum_register,\n\u001b[1;32m   2165\u001b[0m     qasm3_ast\u001b[38;5;241m.\u001b[39mQuantumGateDefinition: \u001b[38;5;28mself\u001b[39m\u001b[38;5;241m.\u001b[39m_visit_gate_definition,\n\u001b[1;32m   2166\u001b[0m     qasm3_ast\u001b[38;5;241m.\u001b[39mQuantumGate: \u001b[38;5;28mself\u001b[39m\u001b[38;5;241m.\u001b[39m_visit_generic_gate_operation,\n\u001b[1;32m   2167\u001b[0m     qasm3_ast\u001b[38;5;241m.\u001b[39mQuantumPhase: \u001b[38;5;28mself\u001b[39m\u001b[38;5;241m.\u001b[39m_visit_generic_gate_operation,\n\u001b[1;32m   2168\u001b[0m     qasm3_ast\u001b[38;5;241m.\u001b[39mClassicalDeclaration: \u001b[38;5;28mself\u001b[39m\u001b[38;5;241m.\u001b[39m_visit_classical_declaration,\n\u001b[1;32m   2169\u001b[0m     qasm3_ast\u001b[38;5;241m.\u001b[39mClassicalAssignment: \u001b[38;5;28mself\u001b[39m\u001b[38;5;241m.\u001b[39m_visit_classical_assignment,\n\u001b[1;32m   2170\u001b[0m     qasm3_ast\u001b[38;5;241m.\u001b[39mConstantDeclaration: \u001b[38;5;28mself\u001b[39m\u001b[38;5;241m.\u001b[39m_visit_constant_declaration,\n\u001b[1;32m   2171\u001b[0m     qasm3_ast\u001b[38;5;241m.\u001b[39mBranchingStatement: \u001b[38;5;28mself\u001b[39m\u001b[38;5;241m.\u001b[39m_visit_branching_statement,\n\u001b[1;32m   2172\u001b[0m     qasm3_ast\u001b[38;5;241m.\u001b[39mForInLoop: \u001b[38;5;28mself\u001b[39m\u001b[38;5;241m.\u001b[39m_visit_forin_loop,\n\u001b[1;32m   2173\u001b[0m     qasm3_ast\u001b[38;5;241m.\u001b[39mAliasStatement: \u001b[38;5;28mself\u001b[39m\u001b[38;5;241m.\u001b[39m_visit_alias_statement,\n\u001b[1;32m   2174\u001b[0m     qasm3_ast\u001b[38;5;241m.\u001b[39mSwitchStatement: \u001b[38;5;28mself\u001b[39m\u001b[38;5;241m.\u001b[39m_visit_switch_statement,\n\u001b[1;32m   2175\u001b[0m     qasm3_ast\u001b[38;5;241m.\u001b[39mSubroutineDefinition: \u001b[38;5;28mself\u001b[39m\u001b[38;5;241m.\u001b[39m_visit_subroutine_definition,\n\u001b[0;32m-> 2176\u001b[0m     qasm3_ast\u001b[38;5;241m.\u001b[39mExpressionStatement: \u001b[38;5;28;01mlambda\u001b[39;00m x: \u001b[38;5;28;43mself\u001b[39;49m\u001b[38;5;241;43m.\u001b[39;49m\u001b[43m_visit_function_call\u001b[49m\u001b[43m(\u001b[49m\u001b[43mx\u001b[49m\u001b[38;5;241;43m.\u001b[39;49m\u001b[43mexpression\u001b[49m\u001b[43m)\u001b[49m,\n\u001b[1;32m   2177\u001b[0m     qasm3_ast\u001b[38;5;241m.\u001b[39mIODeclaration: \u001b[38;5;28;01mlambda\u001b[39;00m x: [],\n\u001b[1;32m   2178\u001b[0m }\n\u001b[1;32m   2180\u001b[0m visitor_function \u001b[38;5;241m=\u001b[39m visit_map\u001b[38;5;241m.\u001b[39mget(\u001b[38;5;28mtype\u001b[39m(statement))\n\u001b[1;32m   2182\u001b[0m \u001b[38;5;28;01mif\u001b[39;00m visitor_function:\n",
      "File \u001b[0;32m/opt/homebrew/lib/python3.11/site-packages/pyqasm/visitor.py:1843\u001b[0m, in \u001b[0;36mQasmVisitor._visit_function_call\u001b[0;34m(self, statement)\u001b[0m\n\u001b[1;32m   1841\u001b[0m fn_name \u001b[38;5;241m=\u001b[39m statement\u001b[38;5;241m.\u001b[39mname\u001b[38;5;241m.\u001b[39mname\n\u001b[1;32m   1842\u001b[0m \u001b[38;5;28;01mif\u001b[39;00m fn_name \u001b[38;5;129;01mnot\u001b[39;00m \u001b[38;5;129;01min\u001b[39;00m \u001b[38;5;28mself\u001b[39m\u001b[38;5;241m.\u001b[39m_subroutine_defns:\n\u001b[0;32m-> 1843\u001b[0m     \u001b[43mraise_qasm3_error\u001b[49m\u001b[43m(\u001b[49m\n\u001b[1;32m   1844\u001b[0m \u001b[43m        \u001b[49m\u001b[38;5;124;43mf\u001b[39;49m\u001b[38;5;124;43m\"\u001b[39;49m\u001b[38;5;124;43mUndefined subroutine \u001b[39;49m\u001b[38;5;124;43m'\u001b[39;49m\u001b[38;5;132;43;01m{\u001b[39;49;00m\u001b[43mfn_name\u001b[49m\u001b[38;5;132;43;01m}\u001b[39;49;00m\u001b[38;5;124;43m'\u001b[39;49m\u001b[38;5;124;43m was called\u001b[39;49m\u001b[38;5;124;43m\"\u001b[39;49m\u001b[43m,\u001b[49m\n\u001b[1;32m   1845\u001b[0m \u001b[43m        \u001b[49m\u001b[43merror_node\u001b[49m\u001b[38;5;241;43m=\u001b[39;49m\u001b[43mstatement\u001b[49m\u001b[43m,\u001b[49m\n\u001b[1;32m   1846\u001b[0m \u001b[43m        \u001b[49m\u001b[43mspan\u001b[49m\u001b[38;5;241;43m=\u001b[39;49m\u001b[43mstatement\u001b[49m\u001b[38;5;241;43m.\u001b[39;49m\u001b[43mspan\u001b[49m\u001b[43m,\u001b[49m\n\u001b[1;32m   1847\u001b[0m \u001b[43m    \u001b[49m\u001b[43m)\u001b[49m\n\u001b[1;32m   1849\u001b[0m subroutine_def \u001b[38;5;241m=\u001b[39m \u001b[38;5;28mself\u001b[39m\u001b[38;5;241m.\u001b[39m_subroutine_defns[fn_name]\n\u001b[1;32m   1851\u001b[0m \u001b[38;5;28;01mif\u001b[39;00m \u001b[38;5;28mlen\u001b[39m(statement\u001b[38;5;241m.\u001b[39marguments) \u001b[38;5;241m!=\u001b[39m \u001b[38;5;28mlen\u001b[39m(subroutine_def\u001b[38;5;241m.\u001b[39marguments):\n",
      "File \u001b[0;32m/opt/homebrew/lib/python3.11/site-packages/pyqasm/exceptions.py:103\u001b[0m, in \u001b[0;36mraise_qasm3_error\u001b[0;34m(message, err_type, error_node, span, raised_from)\u001b[0m\n\u001b[1;32m    101\u001b[0m \u001b[38;5;28;01mif\u001b[39;00m raised_from:\n\u001b[1;32m    102\u001b[0m     \u001b[38;5;28;01mraise\u001b[39;00m err_type(message) \u001b[38;5;28;01mfrom\u001b[39;00m \u001b[38;5;21;01mraised_from\u001b[39;00m\n\u001b[0;32m--> 103\u001b[0m \u001b[38;5;28;01mraise\u001b[39;00m err_type(message)\n",
      "\u001b[0;31mValidationError\u001b[0m: Undefined subroutine 'bernvaz' was called"
     ]
    }
   ],
   "source": [
    "module.unroll()"
   ]
  },
  {
   "cell_type": "markdown",
   "id": "287b4aa8",
   "metadata": {},
   "source": [
    "Below, we display the unrolled circuit, which includes preparing the input and ancilla qubits, applying the '1011' oracle, applying Hadamard gates after the oracle, then measuring the results."
   ]
  },
  {
   "cell_type": "code",
   "execution_count": 5,
   "id": "31842ddc",
   "metadata": {},
   "outputs": [
    {
     "name": "stdout",
     "output_type": "stream",
     "text": [
      "OPENQASM 3.0;\n",
      "include \"bernvaz_subroutine.qasm\";\n",
      "qubit[4] q;\n",
      "qubit[1] ancilla;\n",
      "bit[4] b;\n",
      "bernvaz(q, ancilla);\n",
      "b = measure q;\n",
      "\n"
     ]
    }
   ],
   "source": [
    "module_str = pyqasm.dumps(module)\n",
    "print(module_str)"
   ]
  },
  {
   "cell_type": "markdown",
   "id": "21906ab0",
   "metadata": {},
   "source": [
    "## Using B-V in your own OpenQASM3 program\n",
    "#### qBraid algorithms makes it easy to incorporate either the full Bernstein Vazirani algorithm - or just the encoded oracle - into your own OpenQASM3 circuit.\n",
    "To use a secret string-encoded oracle in your circuit, first generate the oracle submodule using the `generate_oracle` method, which takes a secret string. The method will create a QASM3 file containing your oracle as a subroutine within your current working directory."
   ]
  },
  {
   "cell_type": "code",
   "execution_count": 6,
   "id": "6f3e9784",
   "metadata": {},
   "outputs": [
    {
     "name": "stdout",
     "output_type": "stream",
     "text": [
      "Oracle 'oracle' has been added to /Users/lukeandreesen/qbraid_algos/examples/oracle.qasm\n"
     ]
    }
   ],
   "source": [
    "bv.generate_oracle('111')"
   ]
  },
  {
   "cell_type": "markdown",
   "id": "61817da7",
   "metadata": {},
   "source": [
    "Below, we can see the custom oracle subroutine that you now have access to. To use this in your own circuit, simply add `include \"oracle.qasm\";` to your OpenQASM file, and call the `oracle` subroutine by passing an appropriately sized register of qubits and an ancilla qubit."
   ]
  },
  {
   "cell_type": "code",
   "execution_count": 7,
   "id": "8833f4b9",
   "metadata": {},
   "outputs": [
    {
     "name": "stdout",
     "output_type": "stream",
     "text": [
      "OPENQASM 3.0;\r\n",
      "include \"stdgates.inc\";\r\n",
      "\r\n",
      "def oracle(qubit[3] q, qubit[1] ancilla) {\r\n",
      "    int[32] s = 7;\r\n",
      "    int[16] n = 3;\r\n",
      "    for int i in [0:n - 1] {\r\n",
      "        if ((s >> i) & 1) {\r\n",
      "            cx q[i], ancilla[0];\r\n",
      "        }\r\n",
      "    }\r\n",
      "}\r\n"
     ]
    }
   ],
   "source": [
    "%cat oracle.qasm"
   ]
  },
  {
   "cell_type": "markdown",
   "id": "3672d119",
   "metadata": {},
   "source": [
    "Similarly, you can generate an entire Bernstein Vazirani circuit as a submodule using the `generate_subroutine` method, again passing your desired secret string."
   ]
  },
  {
   "cell_type": "code",
   "execution_count": 8,
   "id": "5e37f60d",
   "metadata": {},
   "outputs": [
    {
     "name": "stdout",
     "output_type": "stream",
     "text": [
      "Subroutine 'bernvaz' has been added to /Users/lukeandreesen/qbraid_algos/examples/bernvaz.qasm\n"
     ]
    }
   ],
   "source": [
    "subroutine = bv.generate_subroutine('011')"
   ]
  },
  {
   "cell_type": "markdown",
   "id": "05cfcdf4",
   "metadata": {},
   "source": [
    "To use the subroutine in your own circuit, add `include \"bernvaz.qasm\";` to your OpenQASM file, and call the `bernvaz` method by passing an appropriately sized register of qubits, as well as an ancilla qubit."
   ]
  },
  {
   "cell_type": "code",
   "execution_count": 9,
   "id": "38b7beb3",
   "metadata": {},
   "outputs": [
    {
     "name": "stdout",
     "output_type": "stream",
     "text": [
      "OPENQASM 3.0;\r\n",
      "include \"stdgates.inc\";\r\n",
      "\r\n",
      "def bernvaz(qubit[3] q, qubit[1] ancilla) {\r\n",
      "    int[32] s = 6;\r\n",
      "    int[16] n = 3;\r\n",
      "    for int i in [0:n - 1] {\r\n",
      "        h q[i];\r\n",
      "    }\r\n",
      "    x ancilla[0];\r\n",
      "    h ancilla[0];\r\n",
      "    // Note: Nested subroutine calls not yet supported by QASM, so manually insert\r\n",
      "    for int i in [0:n - 1] {\r\n",
      "        if ((s >> i) & 1) {\r\n",
      "            cx q[i], ancilla[0];\r\n",
      "        }\r\n",
      "    }\r\n",
      "    for int i in [0:n - 1] {\r\n",
      "        h q[i];\r\n",
      "    }\r\n",
      "\r\n",
      "}\r\n"
     ]
    }
   ],
   "source": [
    "%cat bernvaz.qasm"
   ]
  },
  {
   "cell_type": "code",
   "execution_count": null,
   "id": "ec9ec18e",
   "metadata": {},
   "outputs": [],
   "source": []
  },
  {
   "cell_type": "code",
   "execution_count": null,
   "id": "96870043",
   "metadata": {},
   "outputs": [],
   "source": []
  }
 ],
 "metadata": {
  "kernelspec": {
   "display_name": "Python 3 (ipykernel)",
   "language": "python",
   "name": "python3"
  },
  "language_info": {
   "codemirror_mode": {
    "name": "ipython",
    "version": 3
   },
   "file_extension": ".py",
   "mimetype": "text/x-python",
   "name": "python",
   "nbconvert_exporter": "python",
   "pygments_lexer": "ipython3",
   "version": "3.11.11"
  }
 },
 "nbformat": 4,
 "nbformat_minor": 5
}
