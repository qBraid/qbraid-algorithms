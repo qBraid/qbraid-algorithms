{
 "cells": [
  {
   "cell_type": "code",
   "execution_count": 1,
   "id": "405809fb",
   "metadata": {
    "tags": [
     "hide_cell"
    ]
   },
   "outputs": [],
   "source": [
    "import sys\n",
    "import os\n",
    "\n",
    "sys.path.insert(0, os.path.abspath(os.path.join(os.getcwd(), '..')))"
   ]
  },
  {
   "cell_type": "markdown",
   "id": "d3b8876c",
   "metadata": {},
   "source": [
    "## Bernstein Vazirani\n",
    "#### In this tutorial, we will demonstrate the capabilities of qBraid Algorithms Bernstein Vazirani Module\n",
    "Begin by importing the module from qBraid Algorithms library"
   ]
  },
  {
   "cell_type": "code",
   "execution_count": 2,
   "id": "e939fb23",
   "metadata": {},
   "outputs": [
    {
     "name": "stderr",
     "output_type": "stream",
     "text": [
      "/Users/lukeandreesen/pyqasm/src/pyqasm/__init__.py:60: UserWarning: Importing 'pyqasm' outside a proper installation.\n",
      "  warnings.warn(\"Importing 'pyqasm' outside a proper installation.\", UserWarning)\n"
     ]
    }
   ],
   "source": [
    "import pyqasm\n",
    "from qbraid_algorithms import bernstein_vazirani as bv"
   ]
  },
  {
   "cell_type": "markdown",
   "id": "3545fac9",
   "metadata": {},
   "source": [
    "To load a full Bernstein Vazirani algorithm circuit as a PyQASM module, simply pass the secret string to be encoded in the oracle to the `load_program()` method."
   ]
  },
  {
   "cell_type": "code",
   "execution_count": 3,
   "id": "97649823",
   "metadata": {},
   "outputs": [],
   "source": [
    "module = bv.load_program('1011')"
   ]
  },
  {
   "cell_type": "markdown",
   "id": "7e2ac473",
   "metadata": {},
   "source": [
    "We can perform all standard [PyQASM](https://docs.qbraid.com/pyqasm/user-guide/overview) operations on the module, such as unrolling."
   ]
  },
  {
   "cell_type": "code",
   "execution_count": 4,
   "id": "0fb825a7",
   "metadata": {},
   "outputs": [],
   "source": [
    "module.unroll()"
   ]
  },
  {
   "cell_type": "markdown",
   "id": "287b4aa8",
   "metadata": {},
   "source": [
    "Below, we display the unrolled circuit, which includes preparing the input and ancilla qubits, applying the '1011' oracle, applying Hadamard gates after the oracle, then measuring the results."
   ]
  },
  {
   "cell_type": "code",
   "execution_count": 5,
   "id": "31842ddc",
   "metadata": {},
   "outputs": [
    {
     "name": "stdout",
     "output_type": "stream",
     "text": [
      "OPENQASM 3.0;\n",
      "include \"stdgates.inc\";\n",
      "qubit[4] q;\n",
      "qubit[1] ancilla;\n",
      "bit[4] b;\n",
      "h q[0];\n",
      "h q[1];\n",
      "h q[2];\n",
      "h q[3];\n",
      "x ancilla[0];\n",
      "h ancilla[0];\n",
      "cx q[0], ancilla[0];\n",
      "cx q[2], ancilla[0];\n",
      "cx q[3], ancilla[0];\n",
      "h q[0];\n",
      "h q[1];\n",
      "h q[2];\n",
      "h q[3];\n",
      "b[0] = measure q[0];\n",
      "b[1] = measure q[1];\n",
      "b[2] = measure q[2];\n",
      "b[3] = measure q[3];\n",
      "\n"
     ]
    }
   ],
   "source": [
    "module_str = pyqasm.dumps(module)\n",
    "print(module_str)"
   ]
  },
  {
   "cell_type": "markdown",
   "id": "21906ab0",
   "metadata": {},
   "source": [
    "## Using B-V in your own OpenQASM3 program\n",
    "#### qBraid algorithms makes it easy to incorporate either the full Bernstein Vazirani algorithm - or just the encoded oracle - into your own OpenQASM3 circuit.\n",
    "To use a secret string-encoded oracle in your circuit, first generate the oracle submodule using the `generate_oracle` method, which takes a secret string. The method will create a QASM3 file containing your oracle as a subroutine within your current working directory."
   ]
  },
  {
   "cell_type": "code",
   "execution_count": 6,
   "id": "6f3e9784",
   "metadata": {},
   "outputs": [
    {
     "name": "stdout",
     "output_type": "stream",
     "text": [
      "Oracle 'oracle' has been added to /Users/lukeandreesen/qbraid_algos/examples/oracle.qasm\n"
     ]
    }
   ],
   "source": [
    "bv.generate_oracle('111')"
   ]
  },
  {
   "cell_type": "markdown",
   "id": "61817da7",
   "metadata": {},
   "source": [
    "Below, we can see the custom oracle subroutine that you now have access to. To use this in your own circuit, simply add `include \"oracle.qasm\";` to your OpenQASM file, and call the `oracle` subroutine by passing an appropriately sized register of qubits and an ancilla qubit."
   ]
  },
  {
   "cell_type": "code",
   "execution_count": 7,
   "id": "8833f4b9",
   "metadata": {},
   "outputs": [
    {
     "name": "stdout",
     "output_type": "stream",
     "text": [
      "OPENQASM 3.0;\r\n",
      "include \"stdgates.inc\";\r\n",
      "\r\n",
      "def oracle(qubit[3] q, qubit[1] ancilla) {\r\n",
      "    int[32] s = 7;\r\n",
      "    int[16] n = 3;\r\n",
      "    for int i in [0:n - 1] {\r\n",
      "        if ((s >> i) & 1) {\r\n",
      "            cx q[i], ancilla[0];\r\n",
      "        }\r\n",
      "    }\r\n",
      "}\r\n"
     ]
    }
   ],
   "source": [
    "%cat oracle.qasm"
   ]
  },
  {
   "cell_type": "markdown",
   "id": "3672d119",
   "metadata": {},
   "source": [
    "Similarly, you can generate an entire Bernstein Vazirani circuit as a submodule using the `generate_subroutine` method, again passing your desired secret string."
   ]
  },
  {
   "cell_type": "code",
   "execution_count": 8,
   "id": "5e37f60d",
   "metadata": {},
   "outputs": [
    {
     "name": "stdout",
     "output_type": "stream",
     "text": [
      "Subroutine 'bernvaz' has been added to /Users/lukeandreesen/qbraid_algos/examples/bernvaz.qasm\n"
     ]
    }
   ],
   "source": [
    "subroutine = bv.generate_subroutine('011')"
   ]
  },
  {
   "cell_type": "markdown",
   "id": "05cfcdf4",
   "metadata": {},
   "source": [
    "To use the subroutine in your own circuit, add `include \"bernvaz.qasm\";` to your OpenQASM file, and call the `bernvaz` method by passing an appropriately sized register of qubits, as well as an ancilla qubit."
   ]
  },
  {
   "cell_type": "code",
   "execution_count": 9,
   "id": "38b7beb3",
   "metadata": {},
   "outputs": [
    {
     "name": "stdout",
     "output_type": "stream",
     "text": [
      "OPENQASM 3.0;\r\n",
      "include \"stdgates.inc\";\r\n",
      "\r\n",
      "def bernvaz(qubit[3] q, qubit[1] ancilla) {\r\n",
      "    int[32] s = 6;\r\n",
      "    int[16] n = 3;\r\n",
      "    for int i in [0:n - 1] {\r\n",
      "        h q[i];\r\n",
      "    }\r\n",
      "    x ancilla[0];\r\n",
      "    h ancilla[0];\r\n",
      "    // Note: Nested subroutine calls not yet supported by QASM, so manually insert\r\n",
      "    for int i in [0:n - 1] {\r\n",
      "        if ((s >> i) & 1) {\r\n",
      "            cx q[i], ancilla[0];\r\n",
      "        }\r\n",
      "    }\r\n",
      "    for int i in [0:n - 1] {\r\n",
      "        h q[i];\r\n",
      "    }\r\n",
      "\r\n",
      "}\r\n"
     ]
    }
   ],
   "source": [
    "%cat bernvaz.qasm"
   ]
  },
  {
   "cell_type": "code",
   "execution_count": null,
   "id": "ec9ec18e",
   "metadata": {},
   "outputs": [],
   "source": []
  },
  {
   "cell_type": "code",
   "execution_count": null,
   "id": "96870043",
   "metadata": {},
   "outputs": [],
   "source": []
  }
 ],
 "metadata": {
  "kernelspec": {
   "display_name": "Python 3 (ipykernel)",
   "language": "python",
   "name": "python3"
  },
  "language_info": {
   "codemirror_mode": {
    "name": "ipython",
    "version": 3
   },
   "file_extension": ".py",
   "mimetype": "text/x-python",
   "name": "python",
   "nbconvert_exporter": "python",
   "pygments_lexer": "ipython3",
   "version": "3.11.11"
  }
 },
 "nbformat": 4,
 "nbformat_minor": 5
}
