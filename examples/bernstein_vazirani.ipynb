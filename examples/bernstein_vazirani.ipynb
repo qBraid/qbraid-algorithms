{
 "cells": [
  {
   "cell_type": "code",
   "execution_count": 6,
   "id": "405809fb",
   "metadata": {
    "tags": [
     "hide_cell"
    ]
   },
   "outputs": [],
   "source": [
    "import sys\n",
    "import os\n",
    "\n",
    "sys.path.insert(0, os.path.abspath(os.path.join(os.getcwd(), '..')))"
   ]
  },
  {
   "cell_type": "markdown",
   "id": "d3b8876c",
   "metadata": {},
   "source": [
    "## Bernstein Vazirani\n",
    "#### In this tutorial, we will demonstrate the capabilities of qBraid Algorithms Bernstein Vazirani Module\n",
    "Begin by importing the module from qBraid Algorithms library"
   ]
  },
  {
   "cell_type": "code",
   "execution_count": 7,
   "id": "e939fb23",
   "metadata": {},
   "outputs": [],
   "source": [
    "import pyqasm\n",
    "from qbraid_algorithms import bernstein_vazirani as bv"
   ]
  },
  {
   "cell_type": "markdown",
   "id": "3545fac9",
   "metadata": {},
   "source": [
    "To load a full Bernstein Vazirani algorithm circuit as a PyQASM module, simply pass the secret string to be encoded in the oracle to the `load_program()` method."
   ]
  },
  {
   "cell_type": "code",
   "execution_count": 8,
   "id": "97649823",
   "metadata": {},
   "outputs": [],
   "source": [
    "module = bv.load_program('1011')"
   ]
  },
  {
   "cell_type": "markdown",
   "id": "7e2ac473",
   "metadata": {},
   "source": [
    "We can perform all standard [PyQASM](https://docs.qbraid.com/pyqasm/user-guide/overview) operations on the module, such as unrolling."
   ]
  },
  {
   "cell_type": "code",
   "execution_count": 9,
   "id": "0fb825a7",
   "metadata": {},
   "outputs": [
    {
     "name": "stderr",
     "output_type": "stream",
     "text": [
      "ERROR:pyqasm: Error at line 8, column 0 in QASM file\n",
      "\n",
      " >>>>>> bernvaz(q, ancilla)\n",
      "\n"
     ]
    },
    {
     "ename": "ValidationError",
     "evalue": "Undefined subroutine 'bernvaz' was called",
     "output_type": "error",
     "traceback": [
      "\u001b[0;31m---------------------------------------------------------------------------\u001b[0m",
      "\u001b[0;31mValidationError\u001b[0m                           Traceback (most recent call last)",
      "Cell \u001b[0;32mIn[9], line 1\u001b[0m\n\u001b[0;32m----> 1\u001b[0m \u001b[43mmodule\u001b[49m\u001b[38;5;241;43m.\u001b[39;49m\u001b[43munroll\u001b[49m\u001b[43m(\u001b[49m\u001b[43m)\u001b[49m\n",
      "File \u001b[0;32m/opt/homebrew/lib/python3.11/site-packages/pyqasm/modules/base.py:557\u001b[0m, in \u001b[0;36mQasmModule.unroll\u001b[0;34m(self, **kwargs)\u001b[0m\n\u001b[1;32m    555\u001b[0m \u001b[38;5;28mself\u001b[39m\u001b[38;5;241m.\u001b[39mnum_qubits, \u001b[38;5;28mself\u001b[39m\u001b[38;5;241m.\u001b[39mnum_clbits \u001b[38;5;241m=\u001b[39m \u001b[38;5;241m-\u001b[39m\u001b[38;5;241m1\u001b[39m, \u001b[38;5;241m-\u001b[39m\u001b[38;5;241m1\u001b[39m\n\u001b[1;32m    556\u001b[0m \u001b[38;5;28mself\u001b[39m\u001b[38;5;241m.\u001b[39m_unrolled_ast \u001b[38;5;241m=\u001b[39m Program(statements\u001b[38;5;241m=\u001b[39m[], version\u001b[38;5;241m=\u001b[39m\u001b[38;5;28mself\u001b[39m\u001b[38;5;241m.\u001b[39moriginal_program\u001b[38;5;241m.\u001b[39mversion)\n\u001b[0;32m--> 557\u001b[0m \u001b[38;5;28;01mraise\u001b[39;00m err\n",
      "File \u001b[0;32m/opt/homebrew/lib/python3.11/site-packages/pyqasm/modules/base.py:552\u001b[0m, in \u001b[0;36mQasmModule.unroll\u001b[0;34m(self, **kwargs)\u001b[0m\n\u001b[1;32m    550\u001b[0m         \u001b[38;5;28mself\u001b[39m\u001b[38;5;241m.\u001b[39m_external_gates \u001b[38;5;241m=\u001b[39m []\n\u001b[1;32m    551\u001b[0m     visitor \u001b[38;5;241m=\u001b[39m QasmVisitor(module\u001b[38;5;241m=\u001b[39m\u001b[38;5;28mself\u001b[39m, \u001b[38;5;241m*\u001b[39m\u001b[38;5;241m*\u001b[39mkwargs)\n\u001b[0;32m--> 552\u001b[0m     \u001b[38;5;28;43mself\u001b[39;49m\u001b[38;5;241;43m.\u001b[39;49m\u001b[43maccept\u001b[49m\u001b[43m(\u001b[49m\u001b[43mvisitor\u001b[49m\u001b[43m)\u001b[49m\n\u001b[1;32m    553\u001b[0m \u001b[38;5;28;01mexcept\u001b[39;00m (ValidationError, UnrollError) \u001b[38;5;28;01mas\u001b[39;00m err:\n\u001b[1;32m    554\u001b[0m     \u001b[38;5;66;03m# reset the unrolled ast and qasm\u001b[39;00m\n\u001b[1;32m    555\u001b[0m     \u001b[38;5;28mself\u001b[39m\u001b[38;5;241m.\u001b[39mnum_qubits, \u001b[38;5;28mself\u001b[39m\u001b[38;5;241m.\u001b[39mnum_clbits \u001b[38;5;241m=\u001b[39m \u001b[38;5;241m-\u001b[39m\u001b[38;5;241m1\u001b[39m, \u001b[38;5;241m-\u001b[39m\u001b[38;5;241m1\u001b[39m\n",
      "File \u001b[0;32m/opt/homebrew/lib/python3.11/site-packages/pyqasm/modules/qasm3.py:51\u001b[0m, in \u001b[0;36mQasm3Module.accept\u001b[0;34m(self, visitor)\u001b[0m\n\u001b[1;32m     45\u001b[0m \u001b[38;5;28;01mdef\u001b[39;00m\u001b[38;5;250m \u001b[39m\u001b[38;5;21maccept\u001b[39m(\u001b[38;5;28mself\u001b[39m, visitor):\n\u001b[1;32m     46\u001b[0m \u001b[38;5;250m    \u001b[39m\u001b[38;5;124;03m\"\"\"Accept a visitor for the module\u001b[39;00m\n\u001b[1;32m     47\u001b[0m \n\u001b[1;32m     48\u001b[0m \u001b[38;5;124;03m    Args:\u001b[39;00m\n\u001b[1;32m     49\u001b[0m \u001b[38;5;124;03m        visitor (QasmVisitor): The visitor to accept\u001b[39;00m\n\u001b[1;32m     50\u001b[0m \u001b[38;5;124;03m    \"\"\"\u001b[39;00m\n\u001b[0;32m---> 51\u001b[0m     unrolled_stmt_list \u001b[38;5;241m=\u001b[39m \u001b[43mvisitor\u001b[49m\u001b[38;5;241;43m.\u001b[39;49m\u001b[43mvisit_basic_block\u001b[49m\u001b[43m(\u001b[49m\u001b[38;5;28;43mself\u001b[39;49m\u001b[38;5;241;43m.\u001b[39;49m\u001b[43m_statements\u001b[49m\u001b[43m)\u001b[49m\n\u001b[1;32m     52\u001b[0m     final_stmt_list \u001b[38;5;241m=\u001b[39m visitor\u001b[38;5;241m.\u001b[39mfinalize(unrolled_stmt_list)\n\u001b[1;32m     54\u001b[0m     \u001b[38;5;28mself\u001b[39m\u001b[38;5;241m.\u001b[39m_unrolled_ast\u001b[38;5;241m.\u001b[39mstatements \u001b[38;5;241m=\u001b[39m final_stmt_list\n",
      "File \u001b[0;32m/opt/homebrew/lib/python3.11/site-packages/pyqasm/visitor.py:2423\u001b[0m, in \u001b[0;36mQasmVisitor.visit_basic_block\u001b[0;34m(self, stmt_list)\u001b[0m\n\u001b[1;32m   2421\u001b[0m result \u001b[38;5;241m=\u001b[39m []\n\u001b[1;32m   2422\u001b[0m \u001b[38;5;28;01mfor\u001b[39;00m stmt \u001b[38;5;129;01min\u001b[39;00m stmt_list:\n\u001b[0;32m-> 2423\u001b[0m     result\u001b[38;5;241m.\u001b[39mextend(\u001b[38;5;28;43mself\u001b[39;49m\u001b[38;5;241;43m.\u001b[39;49m\u001b[43mvisit_statement\u001b[49m\u001b[43m(\u001b[49m\u001b[43mstmt\u001b[49m\u001b[43m)\u001b[49m)\n\u001b[1;32m   2424\u001b[0m \u001b[38;5;28;01mreturn\u001b[39;00m result\n",
      "File \u001b[0;32m/opt/homebrew/lib/python3.11/site-packages/pyqasm/visitor.py:2400\u001b[0m, in \u001b[0;36mQasmVisitor.visit_statement\u001b[0;34m(self, statement)\u001b[0m\n\u001b[1;32m   2397\u001b[0m \u001b[38;5;28;01mif\u001b[39;00m visitor_function:\n\u001b[1;32m   2398\u001b[0m     \u001b[38;5;28;01mif\u001b[39;00m \u001b[38;5;28misinstance\u001b[39m(statement, qasm3_ast\u001b[38;5;241m.\u001b[39mExpressionStatement):\n\u001b[1;32m   2399\u001b[0m         \u001b[38;5;66;03m# these return a tuple of return value and list of statements\u001b[39;00m\n\u001b[0;32m-> 2400\u001b[0m         _, ret_stmts \u001b[38;5;241m=\u001b[39m \u001b[43mvisitor_function\u001b[49m\u001b[43m(\u001b[49m\u001b[43mstatement\u001b[49m\u001b[43m)\u001b[49m  \u001b[38;5;66;03m# type: ignore[operator]\u001b[39;00m\n\u001b[1;32m   2401\u001b[0m         result\u001b[38;5;241m.\u001b[39mextend(ret_stmts)\n\u001b[1;32m   2402\u001b[0m     \u001b[38;5;28;01melse\u001b[39;00m:\n",
      "File \u001b[0;32m/opt/homebrew/lib/python3.11/site-packages/pyqasm/visitor.py:2389\u001b[0m, in \u001b[0;36mQasmVisitor.visit_statement.<locals>.<lambda>\u001b[0;34m(x)\u001b[0m\n\u001b[1;32m   2369\u001b[0m logger\u001b[38;5;241m.\u001b[39mdebug(\u001b[38;5;124m\"\u001b[39m\u001b[38;5;124mVisiting statement \u001b[39m\u001b[38;5;124m'\u001b[39m\u001b[38;5;132;01m%s\u001b[39;00m\u001b[38;5;124m'\u001b[39m\u001b[38;5;124m\"\u001b[39m, \u001b[38;5;28mstr\u001b[39m(statement))\n\u001b[1;32m   2370\u001b[0m result \u001b[38;5;241m=\u001b[39m []\n\u001b[1;32m   2371\u001b[0m visit_map \u001b[38;5;241m=\u001b[39m {\n\u001b[1;32m   2372\u001b[0m     qasm3_ast\u001b[38;5;241m.\u001b[39mInclude: \u001b[38;5;28mself\u001b[39m\u001b[38;5;241m.\u001b[39m_visit_include,  \u001b[38;5;66;03m# No operation\u001b[39;00m\n\u001b[1;32m   2373\u001b[0m     qasm3_ast\u001b[38;5;241m.\u001b[39mQuantumMeasurementStatement: \u001b[38;5;28mself\u001b[39m\u001b[38;5;241m.\u001b[39m_visit_measurement,\n\u001b[1;32m   2374\u001b[0m     qasm3_ast\u001b[38;5;241m.\u001b[39mQuantumReset: \u001b[38;5;28mself\u001b[39m\u001b[38;5;241m.\u001b[39m_visit_reset,\n\u001b[1;32m   2375\u001b[0m     qasm3_ast\u001b[38;5;241m.\u001b[39mQuantumBarrier: \u001b[38;5;28mself\u001b[39m\u001b[38;5;241m.\u001b[39m_visit_barrier,\n\u001b[1;32m   2376\u001b[0m     qasm3_ast\u001b[38;5;241m.\u001b[39mQubitDeclaration: \u001b[38;5;28mself\u001b[39m\u001b[38;5;241m.\u001b[39m_visit_quantum_register,\n\u001b[1;32m   2377\u001b[0m     qasm3_ast\u001b[38;5;241m.\u001b[39mQuantumGateDefinition: \u001b[38;5;28mself\u001b[39m\u001b[38;5;241m.\u001b[39m_visit_gate_definition,\n\u001b[1;32m   2378\u001b[0m     qasm3_ast\u001b[38;5;241m.\u001b[39mQuantumGate: \u001b[38;5;28mself\u001b[39m\u001b[38;5;241m.\u001b[39m_visit_generic_gate_operation,\n\u001b[1;32m   2379\u001b[0m     qasm3_ast\u001b[38;5;241m.\u001b[39mQuantumPhase: \u001b[38;5;28mself\u001b[39m\u001b[38;5;241m.\u001b[39m_visit_generic_gate_operation,\n\u001b[1;32m   2380\u001b[0m     qasm3_ast\u001b[38;5;241m.\u001b[39mClassicalDeclaration: \u001b[38;5;28mself\u001b[39m\u001b[38;5;241m.\u001b[39m_visit_classical_declaration,\n\u001b[1;32m   2381\u001b[0m     qasm3_ast\u001b[38;5;241m.\u001b[39mClassicalAssignment: \u001b[38;5;28mself\u001b[39m\u001b[38;5;241m.\u001b[39m_visit_classical_assignment,\n\u001b[1;32m   2382\u001b[0m     qasm3_ast\u001b[38;5;241m.\u001b[39mConstantDeclaration: \u001b[38;5;28mself\u001b[39m\u001b[38;5;241m.\u001b[39m_visit_constant_declaration,\n\u001b[1;32m   2383\u001b[0m     qasm3_ast\u001b[38;5;241m.\u001b[39mBranchingStatement: \u001b[38;5;28mself\u001b[39m\u001b[38;5;241m.\u001b[39m_visit_branching_statement,\n\u001b[1;32m   2384\u001b[0m     qasm3_ast\u001b[38;5;241m.\u001b[39mForInLoop: \u001b[38;5;28mself\u001b[39m\u001b[38;5;241m.\u001b[39m_visit_forin_loop,\n\u001b[1;32m   2385\u001b[0m     qasm3_ast\u001b[38;5;241m.\u001b[39mWhileLoop: \u001b[38;5;28mself\u001b[39m\u001b[38;5;241m.\u001b[39m_visit_while_loop,\n\u001b[1;32m   2386\u001b[0m     qasm3_ast\u001b[38;5;241m.\u001b[39mAliasStatement: \u001b[38;5;28mself\u001b[39m\u001b[38;5;241m.\u001b[39m_visit_alias_statement,\n\u001b[1;32m   2387\u001b[0m     qasm3_ast\u001b[38;5;241m.\u001b[39mSwitchStatement: \u001b[38;5;28mself\u001b[39m\u001b[38;5;241m.\u001b[39m_visit_switch_statement,\n\u001b[1;32m   2388\u001b[0m     qasm3_ast\u001b[38;5;241m.\u001b[39mSubroutineDefinition: \u001b[38;5;28mself\u001b[39m\u001b[38;5;241m.\u001b[39m_visit_subroutine_definition,\n\u001b[0;32m-> 2389\u001b[0m     qasm3_ast\u001b[38;5;241m.\u001b[39mExpressionStatement: \u001b[38;5;28;01mlambda\u001b[39;00m x: \u001b[38;5;28;43mself\u001b[39;49m\u001b[38;5;241;43m.\u001b[39;49m\u001b[43m_visit_function_call\u001b[49m\u001b[43m(\u001b[49m\u001b[43mx\u001b[49m\u001b[38;5;241;43m.\u001b[39;49m\u001b[43mexpression\u001b[49m\u001b[43m)\u001b[49m,\n\u001b[1;32m   2390\u001b[0m     qasm3_ast\u001b[38;5;241m.\u001b[39mIODeclaration: \u001b[38;5;28;01mlambda\u001b[39;00m x: [],\n\u001b[1;32m   2391\u001b[0m     qasm3_ast\u001b[38;5;241m.\u001b[39mBreakStatement: \u001b[38;5;28mself\u001b[39m\u001b[38;5;241m.\u001b[39m_visit_break,\n\u001b[1;32m   2392\u001b[0m     qasm3_ast\u001b[38;5;241m.\u001b[39mContinueStatement: \u001b[38;5;28mself\u001b[39m\u001b[38;5;241m.\u001b[39m_visit_continue,\n\u001b[1;32m   2393\u001b[0m }\n\u001b[1;32m   2395\u001b[0m visitor_function \u001b[38;5;241m=\u001b[39m visit_map\u001b[38;5;241m.\u001b[39mget(\u001b[38;5;28mtype\u001b[39m(statement))\n\u001b[1;32m   2397\u001b[0m \u001b[38;5;28;01mif\u001b[39;00m visitor_function:\n",
      "File \u001b[0;32m/opt/homebrew/lib/python3.11/site-packages/pyqasm/visitor.py:2001\u001b[0m, in \u001b[0;36mQasmVisitor._visit_function_call\u001b[0;34m(self, statement)\u001b[0m\n\u001b[1;32m   1999\u001b[0m fn_name \u001b[38;5;241m=\u001b[39m statement\u001b[38;5;241m.\u001b[39mname\u001b[38;5;241m.\u001b[39mname\n\u001b[1;32m   2000\u001b[0m \u001b[38;5;28;01mif\u001b[39;00m fn_name \u001b[38;5;129;01mnot\u001b[39;00m \u001b[38;5;129;01min\u001b[39;00m \u001b[38;5;28mself\u001b[39m\u001b[38;5;241m.\u001b[39m_subroutine_defns:\n\u001b[0;32m-> 2001\u001b[0m     \u001b[43mraise_qasm3_error\u001b[49m\u001b[43m(\u001b[49m\n\u001b[1;32m   2002\u001b[0m \u001b[43m        \u001b[49m\u001b[38;5;124;43mf\u001b[39;49m\u001b[38;5;124;43m\"\u001b[39;49m\u001b[38;5;124;43mUndefined subroutine \u001b[39;49m\u001b[38;5;124;43m'\u001b[39;49m\u001b[38;5;132;43;01m{\u001b[39;49;00m\u001b[43mfn_name\u001b[49m\u001b[38;5;132;43;01m}\u001b[39;49;00m\u001b[38;5;124;43m'\u001b[39;49m\u001b[38;5;124;43m was called\u001b[39;49m\u001b[38;5;124;43m\"\u001b[39;49m\u001b[43m,\u001b[49m\n\u001b[1;32m   2003\u001b[0m \u001b[43m        \u001b[49m\u001b[43merror_node\u001b[49m\u001b[38;5;241;43m=\u001b[39;49m\u001b[43mstatement\u001b[49m\u001b[43m,\u001b[49m\n\u001b[1;32m   2004\u001b[0m \u001b[43m        \u001b[49m\u001b[43mspan\u001b[49m\u001b[38;5;241;43m=\u001b[39;49m\u001b[43mstatement\u001b[49m\u001b[38;5;241;43m.\u001b[39;49m\u001b[43mspan\u001b[49m\u001b[43m,\u001b[49m\n\u001b[1;32m   2005\u001b[0m \u001b[43m    \u001b[49m\u001b[43m)\u001b[49m\n\u001b[1;32m   2007\u001b[0m subroutine_def \u001b[38;5;241m=\u001b[39m \u001b[38;5;28mself\u001b[39m\u001b[38;5;241m.\u001b[39m_subroutine_defns[fn_name]\n\u001b[1;32m   2009\u001b[0m \u001b[38;5;28;01mif\u001b[39;00m \u001b[38;5;28mlen\u001b[39m(statement\u001b[38;5;241m.\u001b[39marguments) \u001b[38;5;241m!=\u001b[39m \u001b[38;5;28mlen\u001b[39m(subroutine_def\u001b[38;5;241m.\u001b[39marguments):\n",
      "File \u001b[0;32m/opt/homebrew/lib/python3.11/site-packages/pyqasm/exceptions.py:137\u001b[0m, in \u001b[0;36mraise_qasm3_error\u001b[0;34m(message, err_type, error_node, span, raised_from)\u001b[0m\n\u001b[1;32m    135\u001b[0m \u001b[38;5;28;01mif\u001b[39;00m raised_from:\n\u001b[1;32m    136\u001b[0m     \u001b[38;5;28;01mraise\u001b[39;00m err_type(message) \u001b[38;5;28;01mfrom\u001b[39;00m\u001b[38;5;250m \u001b[39m\u001b[38;5;21;01mraised_from\u001b[39;00m\n\u001b[0;32m--> 137\u001b[0m \u001b[38;5;28;01mraise\u001b[39;00m err_type(message)\n",
      "\u001b[0;31mValidationError\u001b[0m: Undefined subroutine 'bernvaz' was called"
     ]
    }
   ],
   "source": [
    "module.unroll()"
   ]
  },
  {
   "cell_type": "markdown",
   "id": "287b4aa8",
   "metadata": {},
   "source": [
    "Below, we display the unrolled circuit, which includes preparing the input and ancilla qubits, applying the '1011' oracle, applying Hadamard gates after the oracle, then measuring the results."
   ]
  },
  {
   "cell_type": "code",
   "execution_count": 10,
   "id": "31842ddc",
   "metadata": {},
   "outputs": [
    {
     "name": "stdout",
     "output_type": "stream",
     "text": [
      "OPENQASM 3.0;\n",
      "include \"bernvaz_subroutine.qasm\";\n",
      "qubit[4] q;\n",
      "qubit[1] ancilla;\n",
      "bit[4] b;\n",
      "bernvaz(q, ancilla);\n",
      "b = measure q;\n",
      "\n"
     ]
    }
   ],
   "source": [
    "module_str = pyqasm.dumps(module)\n",
    "print(module_str)"
   ]
  },
  {
   "cell_type": "markdown",
   "id": "21906ab0",
   "metadata": {},
   "source": [
    "## Using B-V in your own OpenQASM3 program\n",
    "#### qBraid algorithms makes it easy to incorporate either the full Bernstein Vazirani algorithm - or just the encoded oracle - into your own OpenQASM3 circuit.\n",
    "To use a secret string-encoded oracle in your circuit, first generate the oracle submodule using the `generate_oracle` method, which takes a secret string. The method will create a QASM3 file containing your oracle as a subroutine within your current working directory."
   ]
  },
  {
   "cell_type": "code",
   "execution_count": 11,
   "id": "6f3e9784",
   "metadata": {},
   "outputs": [
    {
     "name": "stdout",
     "output_type": "stream",
     "text": [
      "Oracle 'oracle' has been added to /Users/lukeandreesen/qbraid_algos/examples/oracle.qasm\n"
     ]
    }
   ],
   "source": [
    "bv.generate_oracle('111')"
   ]
  },
  {
   "cell_type": "markdown",
   "id": "61817da7",
   "metadata": {},
   "source": [
    "Below, we can see the custom oracle subroutine that you now have access to. To use this in your own circuit, simply add `include \"oracle.qasm\";` to your OpenQASM file, and call the `oracle` subroutine by passing an appropriately sized register of qubits and an ancilla qubit."
   ]
  },
  {
   "cell_type": "code",
   "execution_count": 12,
   "id": "8833f4b9",
   "metadata": {},
   "outputs": [
    {
     "name": "stdout",
     "output_type": "stream",
     "text": [
      "OPENQASM 3.0;\r\n",
      "include \"stdgates.inc\";\r\n",
      "\r\n",
      "def oracle(qubit[3] q, qubit[1] ancilla) {\r\n",
      "    int[32] s = 7;\r\n",
      "    int[16] n = 3;\r\n",
      "    for int i in [0:n - 1] {\r\n",
      "        if ((s >> i) & 1) {\r\n",
      "            cx q[i], ancilla[0];\r\n",
      "        }\r\n",
      "    }\r\n",
      "}\r\n"
     ]
    }
   ],
   "source": [
    "%cat oracle.qasm"
   ]
  },
  {
   "cell_type": "markdown",
   "id": "3672d119",
   "metadata": {},
   "source": [
    "Similarly, you can generate an entire Bernstein Vazirani circuit as a submodule using the `generate_subroutine` method, again passing your desired secret string."
   ]
  },
  {
   "cell_type": "code",
   "execution_count": 13,
   "id": "5e37f60d",
   "metadata": {},
   "outputs": [
    {
     "name": "stdout",
     "output_type": "stream",
     "text": [
      "Subroutine 'bernvaz' has been added to /Users/lukeandreesen/qbraid_algos/examples/bernvaz.qasm\n"
     ]
    }
   ],
   "source": [
    "subroutine = bv.generate_subroutine('011')"
   ]
  },
  {
   "cell_type": "markdown",
   "id": "05cfcdf4",
   "metadata": {},
   "source": [
    "To use the subroutine in your own circuit, add `include \"bernvaz.qasm\";` to your OpenQASM file, and call the `bernvaz` method by passing an appropriately sized register of qubits, as well as an ancilla qubit."
   ]
  },
  {
   "cell_type": "code",
   "execution_count": 14,
   "id": "38b7beb3",
   "metadata": {},
   "outputs": [
    {
     "name": "stdout",
     "output_type": "stream",
     "text": [
      "OPENQASM 3.0;\r\n",
      "include \"stdgates.inc\";\r\n",
      "\r\n",
      "def bernvaz(qubit[3] q, qubit[1] ancilla) {\r\n",
      "    int[32] s = 6;\r\n",
      "    int[16] n = 3;\r\n",
      "    for int i in [0:n - 1] {\r\n",
      "        h q[i];\r\n",
      "    }\r\n",
      "    x ancilla[0];\r\n",
      "    h ancilla[0];\r\n",
      "    // Note: Nested subroutine calls not yet supported by QASM, so manually insert\r\n",
      "    for int i in [0:n - 1] {\r\n",
      "        if ((s >> i) & 1) {\r\n",
      "            cx q[i], ancilla[0];\r\n",
      "        }\r\n",
      "    }\r\n",
      "    for int i in [0:n - 1] {\r\n",
      "        h q[i];\r\n",
      "    }\r\n",
      "\r\n",
      "}\r\n"
     ]
    }
   ],
   "source": [
    "%cat bernvaz.qasm"
   ]
  },
  {
   "cell_type": "markdown",
   "id": "e7d3dd7e",
   "metadata": {},
   "source": [
    "## Running Algorithms on qBraid\n",
    "Running algorithms on qBraid is simple. First, import QbraidProvider from qBraid Runtime. Visit [here](https://docs.qbraid.com/sdk/user-guide/providers/native#qbraidprovider) for more information."
   ]
  },
  {
   "cell_type": "code",
   "execution_count": 15,
   "id": "96870043",
   "metadata": {},
   "outputs": [],
   "source": [
    "from qbraid.runtime import QbraidProvider"
   ]
  },
  {
   "cell_type": "markdown",
   "id": "f3ffffdf",
   "metadata": {},
   "source": [
    "If you have not yet configured QbraidProvider, provide your API key."
   ]
  },
  {
   "cell_type": "code",
   "execution_count": 16,
   "id": "b82efa4b",
   "metadata": {},
   "outputs": [],
   "source": [
    "# provider = QbraidProvider(api_key='API_KEY')\n",
    "provider = QbraidProvider()"
   ]
  },
  {
   "cell_type": "markdown",
   "id": "539d7239",
   "metadata": {},
   "source": [
    "We'll run our program on qBraid's QIR simulator."
   ]
  },
  {
   "cell_type": "code",
   "execution_count": 17,
   "id": "a273c97e",
   "metadata": {},
   "outputs": [],
   "source": [
    "device = provider.get_device('qbraid_qir_simulator')"
   ]
  },
  {
   "cell_type": "markdown",
   "id": "8495dbad",
   "metadata": {},
   "source": [
    "To run the job, simply pass a QASM string to the device. If you have a PyQASM module, use `dumps` to generate a QASM string"
   ]
  },
  {
   "cell_type": "code",
   "execution_count": 18,
   "id": "51206d57",
   "metadata": {},
   "outputs": [],
   "source": [
    "module = bv.load_program('001')\n",
    "qasm_str = pyqasm.dumps(module)"
   ]
  },
  {
   "cell_type": "code",
   "execution_count": 20,
   "id": "358fcbc7",
   "metadata": {},
   "outputs": [
    {
     "name": "stderr",
     "output_type": "stream",
     "text": [
      "ERROR:pyqasm: Error at line 6, column 0 in QASM file\n",
      "\n",
      " >>>>>> bernvaz(q, ancilla)\n",
      "\n",
      "ERROR:pyqasm: Error at line 6, column 0 in QASM file\n",
      "\n",
      " >>>>>> bernvaz(q, ancilla)\n",
      "\n",
      "ERROR:root:Error at line 6, column 0 in QASM file\n",
      "ERROR:pyqasm: Error at line 6, column 0 in QASM file\n",
      "\n",
      " >>>>>> bernvaz(q, ancilla)\n",
      "\n"
     ]
    },
    {
     "ename": "ProgramConversionError",
     "evalue": "Failed to convert 'qasm3' to 'pyqir' due to the following error(s):\n\nConversion qasm3 -> pyqir failed due to exception raised while converting from 'qasm3'.\nQasm3ConversionError: Undefined subroutine 'bernvaz' was called\n\nConversion qasm3 -> braket -> cirq -> pyqir failed due to exception raised while converting from 'qasm3'.\nValidationError: Undefined subroutine 'bernvaz' was called\n\nConversion qasm3 -> qiskit -> qasm2 -> cirq -> pyqir failed due to exception raised while converting from 'qasm3'.\nQASM3ImporterError: '3,0: non-stdgates imports not currently supported'\n",
     "output_type": "error",
     "traceback": [
      "\u001b[0;31m---------------------------------------------------------------------------\u001b[0m",
      "\u001b[0;31mProgramConversionError\u001b[0m                    Traceback (most recent call last)",
      "Cell \u001b[0;32mIn[20], line 1\u001b[0m\n\u001b[0;32m----> 1\u001b[0m job \u001b[38;5;241m=\u001b[39m \u001b[43mdevice\u001b[49m\u001b[38;5;241;43m.\u001b[39;49m\u001b[43mrun\u001b[49m\u001b[43m(\u001b[49m\u001b[43mqasm_str\u001b[49m\u001b[43m,\u001b[49m\u001b[43m \u001b[49m\u001b[43mshots\u001b[49m\u001b[38;5;241;43m=\u001b[39;49m\u001b[38;5;241;43m500\u001b[39;49m\u001b[43m)\u001b[49m\n",
      "File \u001b[0;32m/opt/homebrew/lib/python3.11/site-packages/qbraid/runtime/native/device.py:366\u001b[0m, in \u001b[0;36mQbraidDevice.run\u001b[0;34m(self, run_input, shots, tags, **kwargs)\u001b[0m\n\u001b[1;32m    364\u001b[0m     aux_payload \u001b[38;5;241m=\u001b[39m \u001b[38;5;28mself\u001b[39m\u001b[38;5;241m.\u001b[39m_construct_aux_payload(program, program_spec)\n\u001b[1;32m    365\u001b[0m \u001b[38;5;28;01mif\u001b[39;00m transpile_option:\n\u001b[0;32m--> 366\u001b[0m     program \u001b[38;5;241m=\u001b[39m \u001b[38;5;28;43mself\u001b[39;49m\u001b[38;5;241;43m.\u001b[39;49m\u001b[43mtranspile\u001b[49m\u001b[43m(\u001b[49m\u001b[43mprogram\u001b[49m\u001b[43m,\u001b[49m\u001b[43m \u001b[49m\u001b[43mprogram_spec\u001b[49m\u001b[43m)\u001b[49m\n\u001b[1;32m    367\u001b[0m is_batched_output \u001b[38;5;241m=\u001b[39m is_single_input \u001b[38;5;129;01mand\u001b[39;00m \u001b[38;5;28misinstance\u001b[39m(program, \u001b[38;5;28mlist\u001b[39m)\n\u001b[1;32m    368\u001b[0m program_batch \u001b[38;5;241m=\u001b[39m program \u001b[38;5;28;01mif\u001b[39;00m is_batched_output \u001b[38;5;28;01melse\u001b[39;00m [program]\n",
      "File \u001b[0;32m/opt/homebrew/lib/python3.11/site-packages/qbraid/runtime/device.py:366\u001b[0m, in \u001b[0;36mQuantumDevice.transpile\u001b[0;34m(self, run_input, run_input_spec)\u001b[0m\n\u001b[1;32m    363\u001b[0m         cached_errors\u001b[38;5;241m.\u001b[39mappend(err)\n\u001b[1;32m    365\u001b[0m \u001b[38;5;28;01mif\u001b[39;00m \u001b[38;5;28mlen\u001b[39m(cached_errors) \u001b[38;5;241m==\u001b[39m \u001b[38;5;241m1\u001b[39m:\n\u001b[0;32m--> 366\u001b[0m     \u001b[38;5;28;01mraise\u001b[39;00m cached_errors[\u001b[38;5;241m0\u001b[39m]\n\u001b[1;32m    368\u001b[0m error_messages \u001b[38;5;241m=\u001b[39m \u001b[38;5;124m\"\u001b[39m\u001b[38;5;130;01m\\n\u001b[39;00m\u001b[38;5;124m\"\u001b[39m\u001b[38;5;241m.\u001b[39mjoin([\u001b[38;5;28mstr\u001b[39m(error) \u001b[38;5;28;01mfor\u001b[39;00m error \u001b[38;5;129;01min\u001b[39;00m cached_errors])\n\u001b[1;32m    369\u001b[0m \u001b[38;5;28;01mraise\u001b[39;00m ProgramConversionError(\n\u001b[1;32m    370\u001b[0m     \u001b[38;5;124m\"\u001b[39m\u001b[38;5;124mTranspile step failed after multiple attempts. \u001b[39m\u001b[38;5;124m\"\u001b[39m\n\u001b[1;32m    371\u001b[0m     \u001b[38;5;124mf\u001b[39m\u001b[38;5;124m\"\u001b[39m\u001b[38;5;124mThe following errors occurred:\u001b[39m\u001b[38;5;130;01m\\n\u001b[39;00m\u001b[38;5;132;01m{\u001b[39;00merror_messages\u001b[38;5;132;01m}\u001b[39;00m\u001b[38;5;124m\"\u001b[39m\n\u001b[1;32m    372\u001b[0m )\n",
      "File \u001b[0;32m/opt/homebrew/lib/python3.11/site-packages/qbraid/runtime/device.py:345\u001b[0m, in \u001b[0;36mQuantumDevice.transpile\u001b[0;34m(self, run_input, run_input_spec)\u001b[0m\n\u001b[1;32m    338\u001b[0m logger\u001b[38;5;241m.\u001b[39mdebug(\n\u001b[1;32m    339\u001b[0m     \u001b[38;5;124m\"\u001b[39m\u001b[38;5;124mTranspiling \u001b[39m\u001b[38;5;124m'\u001b[39m\u001b[38;5;132;01m%s\u001b[39;00m\u001b[38;5;124m'\u001b[39m\u001b[38;5;124m program to device target program type \u001b[39m\u001b[38;5;124m'\u001b[39m\u001b[38;5;132;01m%s\u001b[39;00m\u001b[38;5;124m'\u001b[39m\u001b[38;5;124m\"\u001b[39m,\n\u001b[1;32m    340\u001b[0m     run_input_spec\u001b[38;5;241m.\u001b[39malias,\n\u001b[1;32m    341\u001b[0m     target_alias,\n\u001b[1;32m    342\u001b[0m )\n\u001b[1;32m    344\u001b[0m \u001b[38;5;28;01mtry\u001b[39;00m:\n\u001b[0;32m--> 345\u001b[0m     transpiled_run_input \u001b[38;5;241m=\u001b[39m \u001b[43mtranspile\u001b[49m\u001b[43m(\u001b[49m\n\u001b[1;32m    346\u001b[0m \u001b[43m        \u001b[49m\u001b[43mrun_input\u001b[49m\u001b[43m,\u001b[49m\u001b[43m \u001b[49m\u001b[43mtarget_alias\u001b[49m\u001b[43m,\u001b[49m\u001b[43m \u001b[49m\u001b[38;5;241;43m*\u001b[39;49m\u001b[38;5;241;43m*\u001b[39;49m\u001b[43mconversion_scheme_fields\u001b[49m\n\u001b[1;32m    347\u001b[0m \u001b[43m    \u001b[49m\u001b[43m)\u001b[49m\n\u001b[1;32m    349\u001b[0m     \u001b[38;5;28;01mif\u001b[39;00m \u001b[38;5;129;01mnot\u001b[39;00m (\n\u001b[1;32m    350\u001b[0m         \u001b[38;5;28misinstance\u001b[39m(transpiled_run_input, \u001b[38;5;28mlist\u001b[39m)\n\u001b[1;32m    351\u001b[0m         \u001b[38;5;129;01mand\u001b[39;00m \u001b[38;5;28mall\u001b[39m(\n\u001b[0;32m   (...)\u001b[0m\n\u001b[1;32m    354\u001b[0m         )\n\u001b[1;32m    355\u001b[0m     ) \u001b[38;5;129;01mand\u001b[39;00m \u001b[38;5;129;01mnot\u001b[39;00m \u001b[38;5;28misinstance\u001b[39m(transpiled_run_input, (target_type, \u001b[38;5;28mtype\u001b[39m(target_type))):\n\u001b[1;32m    356\u001b[0m         \u001b[38;5;28;01mraise\u001b[39;00m ProgramConversionError(\n\u001b[1;32m    357\u001b[0m             \u001b[38;5;124mf\u001b[39m\u001b[38;5;124m\"\u001b[39m\u001b[38;5;124mExpected transpile step to produce program of type of \u001b[39m\u001b[38;5;132;01m{\u001b[39;00mtarget_type\u001b[38;5;132;01m}\u001b[39;00m\u001b[38;5;124m, \u001b[39m\u001b[38;5;124m\"\u001b[39m\n\u001b[1;32m    358\u001b[0m             \u001b[38;5;124mf\u001b[39m\u001b[38;5;124m\"\u001b[39m\u001b[38;5;124mbut instead got program of type \u001b[39m\u001b[38;5;132;01m{\u001b[39;00m\u001b[38;5;28mtype\u001b[39m(transpiled_run_input)\u001b[38;5;132;01m}\u001b[39;00m\u001b[38;5;124m.\u001b[39m\u001b[38;5;124m\"\u001b[39m\n\u001b[1;32m    359\u001b[0m         )\n",
      "File \u001b[0;32m/opt/homebrew/lib/python3.11/site-packages/qbraid/transpiler/converter.py:164\u001b[0m, in \u001b[0;36mtranspile\u001b[0;34m(program, target, conversion_graph, max_path_attempts, max_path_depth, **kwargs)\u001b[0m\n\u001b[1;32m    161\u001b[0m             error_messages\u001b[38;5;241m.\u001b[39mappend(formatted_error)\n\u001b[1;32m    162\u001b[0m         \u001b[38;5;28;01mcontinue\u001b[39;00m\n\u001b[0;32m--> 164\u001b[0m \u001b[38;5;28;01mraise\u001b[39;00m ProgramConversionError(\n\u001b[1;32m    165\u001b[0m     \u001b[38;5;124mf\u001b[39m\u001b[38;5;124m\"\u001b[39m\u001b[38;5;124mFailed to convert \u001b[39m\u001b[38;5;124m'\u001b[39m\u001b[38;5;132;01m{\u001b[39;00msource\u001b[38;5;132;01m}\u001b[39;00m\u001b[38;5;124m'\u001b[39m\u001b[38;5;124m to \u001b[39m\u001b[38;5;124m'\u001b[39m\u001b[38;5;132;01m{\u001b[39;00mtarget\u001b[38;5;132;01m}\u001b[39;00m\u001b[38;5;124m'\u001b[39m\u001b[38;5;124m\"\u001b[39m\n\u001b[1;32m    166\u001b[0m     \u001b[38;5;241m+\u001b[39m (\n\u001b[1;32m    167\u001b[0m         \u001b[38;5;124m\"\u001b[39m\u001b[38;5;124m due to the following error(s):\u001b[39m\u001b[38;5;130;01m\\n\u001b[39;00m\u001b[38;5;130;01m\\n\u001b[39;00m\u001b[38;5;124m\"\u001b[39m \u001b[38;5;241m+\u001b[39m \u001b[38;5;124m\"\u001b[39m\u001b[38;5;130;01m\\n\u001b[39;00m\u001b[38;5;124m\"\u001b[39m\u001b[38;5;241m.\u001b[39mjoin(error_messages)\n\u001b[1;32m    168\u001b[0m         \u001b[38;5;28;01mif\u001b[39;00m error_messages\n\u001b[1;32m    169\u001b[0m         \u001b[38;5;28;01melse\u001b[39;00m \u001b[38;5;124m\"\u001b[39m\u001b[38;5;124m.\u001b[39m\u001b[38;5;124m\"\u001b[39m\n\u001b[1;32m    170\u001b[0m     )\n\u001b[1;32m    171\u001b[0m )\n",
      "\u001b[0;31mProgramConversionError\u001b[0m: Failed to convert 'qasm3' to 'pyqir' due to the following error(s):\n\nConversion qasm3 -> pyqir failed due to exception raised while converting from 'qasm3'.\nQasm3ConversionError: Undefined subroutine 'bernvaz' was called\n\nConversion qasm3 -> braket -> cirq -> pyqir failed due to exception raised while converting from 'qasm3'.\nValidationError: Undefined subroutine 'bernvaz' was called\n\nConversion qasm3 -> qiskit -> qasm2 -> cirq -> pyqir failed due to exception raised while converting from 'qasm3'.\nQASM3ImporterError: '3,0: non-stdgates imports not currently supported'\n"
     ]
    }
   ],
   "source": [
    "job = device.run(qasm_str, shots=500)"
   ]
  },
  {
   "cell_type": "markdown",
   "id": "53858d48",
   "metadata": {},
   "source": [
    "We can now get the counts from the job results."
   ]
  },
  {
   "cell_type": "code",
   "execution_count": 21,
   "id": "9a8f91c5",
   "metadata": {},
   "outputs": [
    {
     "ename": "NameError",
     "evalue": "name 'job' is not defined",
     "output_type": "error",
     "traceback": [
      "\u001b[0;31m---------------------------------------------------------------------------\u001b[0m",
      "\u001b[0;31mNameError\u001b[0m                                 Traceback (most recent call last)",
      "Cell \u001b[0;32mIn[21], line 1\u001b[0m\n\u001b[0;32m----> 1\u001b[0m results \u001b[38;5;241m=\u001b[39m \u001b[43mjob\u001b[49m\u001b[38;5;241m.\u001b[39mresult()\n\u001b[1;32m      2\u001b[0m counts \u001b[38;5;241m=\u001b[39m result\u001b[38;5;241m.\u001b[39mdata\u001b[38;5;241m.\u001b[39mget_counts()\n\u001b[1;32m      3\u001b[0m \u001b[38;5;28mprint\u001b[39m(counts)\n",
      "\u001b[0;31mNameError\u001b[0m: name 'job' is not defined"
     ]
    }
   ],
   "source": [
    "results = job.result()\n",
    "counts = result.data.get_counts()\n",
    "print(counts)"
   ]
  },
  {
   "cell_type": "markdown",
   "id": "29cbdab1",
   "metadata": {},
   "source": [
    "Finally, we can plot the results using qBraid Visualization."
   ]
  },
  {
   "cell_type": "code",
   "execution_count": null,
   "id": "0cf82021",
   "metadata": {},
   "outputs": [],
   "source": [
    "from qbraid.visualization import plot_histogram\n",
    "\n",
    "plot_histogram(counts)"
   ]
  }
 ],
 "metadata": {
  "kernelspec": {
   "display_name": "Python 3 (ipykernel)",
   "language": "python",
   "name": "python3"
  },
  "language_info": {
   "codemirror_mode": {
    "name": "ipython",
    "version": 3
   },
   "file_extension": ".py",
   "mimetype": "text/x-python",
   "name": "python",
   "nbconvert_exporter": "python",
   "pygments_lexer": "ipython3",
   "version": "3.11.11"
  }
 },
 "nbformat": 4,
 "nbformat_minor": 5
}
