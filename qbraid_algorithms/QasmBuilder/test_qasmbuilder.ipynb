{
 "cells": [
  {
   "cell_type": "code",
   "execution_count": 1,
   "id": "f118cb1e",
   "metadata": {},
   "outputs": [],
   "source": [
    "from QasmBuilder import *\n",
    "from GateLibrary import *\n",
    "from QFTLibrary import *"
   ]
  },
  {
   "cell_type": "code",
   "execution_count": 2,
   "id": "f6c9051c",
   "metadata": {},
   "outputs": [
    {
     "name": "stdout",
     "output_type": "stream",
     "text": [
      "OPENQASM 3;\n",
      "include \"std_gates.inc\";\n",
      "qubit[3] qb;\n",
      "bit[3] cb;\n",
      "gate QFT7S  a, b, c, d, e, f, g{\n",
      "\th  a ;\n",
      "\tcphase (pi>>(1)) a  b ;\n",
      "\tcphase (pi>>(2)) a  c ;\n",
      "\tcphase (pi>>(3)) a  d ;\n",
      "\tcphase (pi>>(4)) a  e ;\n",
      "\tcphase (pi>>(5)) a  f ;\n",
      "\tcphase (pi>>(6)) a  g ;\n",
      "\th  b ;\n",
      "\tcphase (pi>>(1)) b  c ;\n",
      "\tcphase (pi>>(2)) b  d ;\n",
      "\tcphase (pi>>(3)) b  e ;\n",
      "\tcphase (pi>>(4)) b  f ;\n",
      "\tcphase (pi>>(5)) b  g ;\n",
      "\th  c ;\n",
      "\tcphase (pi>>(1)) c  d ;\n",
      "\tcphase (pi>>(2)) c  e ;\n",
      "\tcphase (pi>>(3)) c  f ;\n",
      "\tcphase (pi>>(4)) c  g ;\n",
      "\th  d ;\n",
      "\tcphase (pi>>(1)) d  e ;\n",
      "\tcphase (pi>>(2)) d  f ;\n",
      "\tcphase (pi>>(3)) d  g ;\n",
      "\th  e ;\n",
      "\tcphase (pi>>(1)) e  f ;\n",
      "\tcphase (pi>>(2)) e  g ;\n",
      "\th  f ;\n",
      "\tcphase (pi>>(1)) f  g ;\n",
      "\th  g ;\n",
      "}\n",
      "\n",
      "x qb[1];\n",
      "/*\n",
      "this is a\n",
      " .. multi line \n",
      "comment\n",
      "*/\n",
      "//this is a single line comment\n",
      "cb[{1}] = measure qb[{1}];\n",
      "for int i in [0:5] {\n",
      "\tctrl @ sx qb[3];\n",
      "\t//this is a shifted scope\n",
      "}\n",
      "QFT7S 0,1,2,3,4,5,6,;\n",
      "QFT7S 1,2,3,4,5,6,7,;\n",
      "\n"
     ]
    }
   ],
   "source": [
    "alg = QasmBuilder(3,version=\"3\") \n",
    "program = alg.import_library(std_gates)\n",
    "qft = alg.import_library(QFTLibrary)\n",
    "\n",
    "program.x(1)\n",
    "program.comment(\"this is a\\n .. multi line \\ncomment\")\n",
    "program.comment(\"this is a single line comment\")\n",
    "program.measure([1],[1])\n",
    "program.begin_loop(5)\n",
    "program.controlled_op(program.sx,[3])\n",
    "program.comment(\"this is a shifted scope\")\n",
    "program.end_loop()\n",
    "qft.QFT([*range(7)])\n",
    "qft.QFT([*range(1,8)])\n",
    "\n",
    "\n",
    "print(alg.build())\n",
    "\n",
    "        "
   ]
  },
  {
   "cell_type": "code",
   "execution_count": 3,
   "id": "bd538440",
   "metadata": {},
   "outputs": [
    {
     "name": "stdout",
     "output_type": "stream",
     "text": [
      "OPENQASM 3;\n",
      "include \"std_gates.inc\";\n",
      "qubit[3] qb;\n",
      "bit[3] cb;\n",
      "gate QFT7S  a, b, c, d, e, f, g{\n",
      "\th  a ;\n",
      "\tcphase (pi>>(1)) a  b ;\n",
      "\tcphase (pi>>(2)) a  c ;\n",
      "\tcphase (pi>>(3)) a  d ;\n",
      "\tcphase (pi>>(4)) a  e ;\n",
      "\tcphase (pi>>(5)) a  f ;\n",
      "\tcphase (pi>>(6)) a  g ;\n",
      "\th  b ;\n",
      "\tcphase (pi>>(1)) b  c ;\n",
      "\tcphase (pi>>(2)) b  d ;\n",
      "\tcphase (pi>>(3)) b  e ;\n",
      "\tcphase (pi>>(4)) b  f ;\n",
      "\tcphase (pi>>(5)) b  g ;\n",
      "\th  c ;\n",
      "\tcphase (pi>>(1)) c  d ;\n",
      "\tcphase (pi>>(2)) c  e ;\n",
      "\tcphase (pi>>(3)) c  f ;\n",
      "\tcphase (pi>>(4)) c  g ;\n",
      "\th  d ;\n",
      "\tcphase (pi>>(1)) d  e ;\n",
      "\tcphase (pi>>(2)) d  f ;\n",
      "\tcphase (pi>>(3)) d  g ;\n",
      "\th  e ;\n",
      "\tcphase (pi>>(1)) e  f ;\n",
      "\tcphase (pi>>(2)) e  g ;\n",
      "\th  f ;\n",
      "\tcphase (pi>>(1)) f  g ;\n",
      "\th  g ;\n",
      "}\n",
      "\n",
      "QFT7S 0,1,2,3,4,5,6,;\n",
      "\n"
     ]
    }
   ],
   "source": [
    "alg = QasmBuilder(3,version=\"3\") \n",
    "qft = alg.import_library(QFTLibrary)\n",
    "\n",
    "\n",
    "qft.QFT([*range(7)])\n",
    "print(alg.build())"
   ]
  },
  {
   "cell_type": "code",
   "execution_count": null,
   "id": "f3af9ecf",
   "metadata": {},
   "outputs": [],
   "source": []
  }
 ],
 "metadata": {
  "kernelspec": {
   "display_name": "venv",
   "language": "python",
   "name": "python3"
  },
  "language_info": {
   "codemirror_mode": {
    "name": "ipython",
    "version": 3
   },
   "file_extension": ".py",
   "mimetype": "text/x-python",
   "name": "python",
   "nbconvert_exporter": "python",
   "pygments_lexer": "ipython3",
   "version": "3.12.8"
  }
 },
 "nbformat": 4,
 "nbformat_minor": 5
}
