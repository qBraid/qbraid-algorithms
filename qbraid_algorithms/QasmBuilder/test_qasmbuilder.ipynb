{
 "cells": [
  {
   "cell_type": "code",
   "execution_count": 1,
   "id": "f118cb1e",
   "metadata": {},
   "outputs": [],
   "source": [
    "from QasmBuilder import *\n",
    "from GateLibrary import *\n",
    "from QFTLibrary import *"
   ]
  },
  {
   "cell_type": "code",
   "execution_count": 2,
   "id": "f6c9051c",
   "metadata": {},
   "outputs": [
    {
     "name": "stdout",
     "output_type": "stream",
     "text": [
      "[' a', ' b', ' c', ' d', ' e', ' f', ' g']\n",
      "stdgates: gate cp is not part of visible scope, make sure that this isn't a floating reference / malformed statement, or is at least previously defined within untracked environment definitions\n",
      "OPENQASM 3;\n",
      "include std_gates.inc;\n",
      "qubit[3] qb;\n",
      "bit[3] cb;\n",
      "gate QFT7S ' a', ' b', ' c', ' d', ' e', ' f', ' g'{\n",
      "\tfor int i in [0:7] {\n",
      "\t\th  qb[i];\n",
      "\t\tfor j in [i+1:7]{\n",
      "\t\t\tcp (pi>>(j-i)) qb[i], qb[j];\n",
      "\t\t}\n",
      "\t}\n",
      "}\n",
      "\n",
      "x  qb[1];\n",
      "/*\n",
      "this is a\n",
      " .. multi line \n",
      "comment\n",
      "*/\n",
      "//this is a single line comment\n",
      "cb[{1}] = measure qb[{1}];\n",
      "for int i in [0:5] {\n",
      "\tctrl @ sx  qb[3];\n",
      "\t//this is a shifted scope\n",
      "}\n",
      "QFT7S  qb[0], qb[1], qb[2], qb[3], qb[4], qb[5], qb[6];\n",
      "QFT7S  qb[1], qb[2], qb[3], qb[4], qb[5], qb[6], qb[7];\n",
      "\n"
     ]
    }
   ],
   "source": [
    "alg = QasmBuilder(3,version=\"3\") \n",
    "program = alg.import_library(std_gates)\n",
    "qft = alg.import_library(QFTLibrary)\n",
    "\n",
    "program.x(1)\n",
    "program.comment(\"this is a\\n .. multi line \\ncomment\")\n",
    "program.comment(\"this is a single line comment\")\n",
    "program.measure([1],[1])\n",
    "program.begin_loop(5)\n",
    "program.controlled_op(program.sx,[3])\n",
    "program.comment(\"this is a shifted scope\")\n",
    "program.end_loop()\n",
    "qft.QFT([*range(7)])\n",
    "qft.QFT([*range(1,8)])\n",
    "\n",
    "\n",
    "print(alg.build())\n",
    "\n",
    "        "
   ]
  },
  {
   "cell_type": "code",
   "execution_count": 3,
   "id": "bd538440",
   "metadata": {},
   "outputs": [
    {
     "name": "stdout",
     "output_type": "stream",
     "text": [
      "time to define a QFT\n",
      "[' a', ' b', ' c', ' d', ' e', ' f', ' g']\n",
      "stdgates: gate cp is not part of visible scope, make sure that this isn't a floating reference / malformed statement, or is at least previously defined within untracked environment definitions\n",
      "OPENQASM 3;\n",
      "include std_gates.inc;\n",
      "qubit[3] qb;\n",
      "bit[3] cb;\n",
      "gate QFT7S ' a', ' b', ' c', ' d', ' e', ' f', ' g'{\n",
      "\tfor int i in [0:7] {\n",
      "\t\th  qb[i];\n",
      "\t\tfor j in [i+1:7]{\n",
      "\t\t\tcp (pi>>(j-i)) qb[i], qb[j];\n",
      "\t\t}\n",
      "\t}\n",
      "}\n",
      "\n",
      "QFT7S  qb[0], qb[1], qb[2], qb[3], qb[4], qb[5], qb[6];\n",
      "\n"
     ]
    }
   ],
   "source": [
    "alg = QasmBuilder(3,version=\"3\") \n",
    "qft = alg.import_library(QFTLibrary)\n",
    "\n",
    "\n",
    "qft.QFT([*range(7)])\n",
    "print(alg.build())"
   ]
  },
  {
   "cell_type": "code",
   "execution_count": null,
   "id": "f3af9ecf",
   "metadata": {},
   "outputs": [],
   "source": []
  }
 ],
 "metadata": {
  "kernelspec": {
   "display_name": "QBraid_env",
   "language": "python",
   "name": "python3"
  },
  "language_info": {
   "codemirror_mode": {
    "name": "ipython",
    "version": 3
   },
   "file_extension": ".py",
   "mimetype": "text/x-python",
   "name": "python",
   "nbconvert_exporter": "python",
   "pygments_lexer": "ipython3",
   "version": "3.12.8"
  }
 },
 "nbformat": 4,
 "nbformat_minor": 5
}
